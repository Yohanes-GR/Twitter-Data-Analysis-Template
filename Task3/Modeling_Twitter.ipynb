{
 "cells": [
  {
   "cell_type": "markdown",
   "metadata": {},
   "source": [
    "# Table of Contents\n",
    "0. [Introduction](#introduction)\n",
    "1. [pandas](#Pandas)\n",
    "2. [Matplotlib](#Matplotlib)\n",
    "3. [sklearn](#sklearn)\n",
    "4. [Modeling](#Modeling)\n",
    "5. [Deployment](#Deployment)\n",
    "6. [References](#References)"
   ]
  },
  {
   "cell_type": "markdown",
   "metadata": {},
   "source": [
    "# Introduction\n",
    "\n",
    "## Task 2 Steps\n",
    "5. ML training and validation - a code base to train topic modelling and sentiment analysis models.\n",
    "6. Deployment - a code base to make and deploy dashboard expose trained models. \n",
    "7. Model performance analyser - to integrate MLWatcher or something similar to monitor model performance at prediction time. \n",
    "8. A data drift or model underperformance trigger mechanism that identifies and shows an alert when model performance is below threshold or incoming data is drifted from the data used to train the model."
   ]
  },
  {
   "cell_type": "markdown",
   "metadata": {},
   "source": [
    "## Data Gathering"
   ]
  },
  {
   "cell_type": "markdown",
   "metadata": {},
   "source": [
    "### Downloading & extracting data"
   ]
  },
  {
   "cell_type": "code",
   "execution_count": 2,
   "metadata": {},
   "outputs": [
    {
     "name": "stdout",
     "output_type": "stream",
     "text": [
      "Collecting wget\n",
      "  Downloading wget-3.2.zip (10 kB)\n",
      "Building wheels for collected packages: wget\n",
      "  Building wheel for wget (setup.py) ... \u001b[?25ldone\n",
      "\u001b[?25h  Created wheel for wget: filename=wget-3.2-py3-none-any.whl size=9680 sha256=fc48aa6ae4cd108e0eb9c9b8266bc849e441a90c437954cafb72fbfa0acdb34e\n",
      "  Stored in directory: /Users/gciniwe/Library/Caches/pip/wheels/a1/b6/7c/0e63e34eb06634181c63adacca38b79ff8f35c37e3c13e3c02\n",
      "Successfully built wget\n",
      "Installing collected packages: wget\n",
      "Successfully installed wget-3.2\n"
     ]
    }
   ],
   "source": [
    "#!pip install wget"
   ]
  },
  {
   "cell_type": "code",
   "execution_count": 4,
   "metadata": {},
   "outputs": [
    {
     "name": "stdout",
     "output_type": "stream",
     "text": [
      "--2022-04-26 13:04:24--  http://ai.stanford.edu/~amaas/data/sentiment/aclImdb_v1.tar.gz\n",
      "Resolving ai.stanford.edu (ai.stanford.edu)... 171.64.68.10\n",
      "Connecting to ai.stanford.edu (ai.stanford.edu)|171.64.68.10|:80... connected.\n",
      "HTTP request sent, awaiting response... 200 OK\n",
      "Length: 84125825 (80M) [application/x-gzip]\n",
      "Saving to: ‘aclImdb_v1.tar.gz’\n",
      "\n",
      "aclImdb_v1.tar.gz   100%[===================>]  80.23M  8.90MB/s    in 13s     \n",
      "\n",
      "2022-04-26 13:04:37 (6.34 MB/s) - ‘aclImdb_v1.tar.gz’ saved [84125825/84125825]\n",
      "\n"
     ]
    }
   ],
   "source": [
    "!wget \"http://ai.stanford.edu/~amaas/data/sentiment/aclImdb_v1.tar.gz\" "
   ]
  },
  {
   "cell_type": "code",
   "execution_count": 12,
   "metadata": {},
   "outputs": [
    {
     "name": "stdout",
     "output_type": "stream",
     "text": [
      "  % Total    % Received % Xferd  Average Speed   Time    Time     Time  Current\n",
      "                                 Dload  Upload   Total   Spent    Left  Speed\n",
      "100 80.2M  100 80.2M    0     0   666k      0  0:02:03  0:02:03 --:--:--  513k    0  0:01:24  0:00:21  0:01:03 1313k  901k      0  0:01:31  0:00:34  0:00:57 1365kk      0  0:01:29  0:00:36  0:00:53 1262k927k      0  0:01:28  0:00:53  0:00:35  771k01:23  0:01:00  0:00:23 1380k1k      0  0:01:28  0:01:17  0:00:11  2613  0  0:01:47  0:01:34  0:00:13 922260     0   719k      0  0:01:54  0:01:42  0:00:12  227k\n"
     ]
    }
   ],
   "source": [
    "#!curl \"http://ai.stanford.edu/~amaas/data/sentiment/aclImdb_v1.tar.gz\" -o aclImdb_v1.tar.gz"
   ]
  },
  {
   "cell_type": "code",
   "execution_count": 13,
   "metadata": {},
   "outputs": [],
   "source": [
    "#!tar -xzf \"aclImdb_v1.tar.gz\""
   ]
  },
  {
   "cell_type": "code",
   "execution_count": 5,
   "metadata": {},
   "outputs": [
    {
     "name": "stdout",
     "output_type": "stream",
     "text": [
      "\n",
      "7-Zip [64] 16.02 : Copyright (c) 1999-2016 Igor Pavlov : 2016-05-21\n",
      "p7zip Version 16.02 (locale=en_ZA.UTF-8,Utf16=on,HugeFiles=on,64 bits,8 CPUs Intel(R) Core(TM) i7-4770 CPU @ 3.40GHz (306C3),ASM,AES-NI)\n",
      "\n",
      "Scanning the drive for archives:\n",
      "  0M Sca        1 file, 84125825 bytes (81 MiB)\n",
      "\n",
      "Extracting archive: aclImdb_v1.tar.gz\n",
      "--\n",
      "Path = aclImdb_v1.tar.gz\n",
      "Type = gzip\n",
      "Headers Size = 10\n",
      "\n",
      "  0% - aclImdb_v1.ta                     12% - aclImdb_v1.ta                     26% - aclImdb_v1.ta                     38% - aclImdb_v1.ta                     51% - aclImdb_v1.ta                     63% - aclImdb_v1.ta                     75% - aclImdb_v1.ta                     87% - aclImdb_v1.ta                    Everything is Ok\n",
      "\n",
      "Size:       298168320\n",
      "Compressed: 84125825\n"
     ]
    }
   ],
   "source": [
    "!7z x aclImdb_v1.tar.gz"
   ]
  },
  {
   "cell_type": "code",
   "execution_count": 6,
   "metadata": {},
   "outputs": [
    {
     "name": "stdout",
     "output_type": "stream",
     "text": [
      "total 379004\r\n",
      "drwxrwxr-x 8 musa musa      4096 Apr 26 13:05  .\r\n",
      "drwxrwxr-x 9 musa musa      4096 Apr 22 11:42  ..\r\n",
      "drwxr-xr-x 4 musa musa      4096 Apr 26 05:30  aclImdb\r\n",
      "-rw-rw-r-- 1 musa musa 298168320 Jun 26  2011  aclImdb_v1.tar\r\n",
      "-rw-rw-r-- 1 musa musa  84125825 Jun 26  2011  aclImdb_v1.tar.gz\r\n",
      "-rw-r--r-- 1 musa musa     11242 Apr 26 03:49 'Challenge_ Day2.ipynb'\r\n",
      "drwxr-xr-x 2 musa musa      4096 Apr 26 06:07  classifiers\r\n",
      "-rw-r--r-- 1 musa musa   3960754 Apr 23 03:23  cleaned_fintech_data.csv\r\n",
      "-rw-r--r-- 1 musa musa     55131 Apr 23 03:23  CRISP-DM.pptx\r\n",
      "drwxr-xr-x 2 musa musa      4096 Apr 26 05:31  csv\r\n",
      "drwxr-xr-x 2 musa musa      4096 Apr 26 05:46  data_preprocessors\r\n",
      "-rw-rw-r-- 1 musa musa    600641 Apr 26 01:08  DS-Workflow.pptx\r\n",
      "-rw-r--r-- 1 musa musa    810716 Apr 26 03:52  EDA-Twitter.ipynb\r\n",
      "drwxrwxr-x 2 musa musa      4096 Apr 26 11:06  .ipynb_checkpoints\r\n",
      "-rw-r--r-- 1 musa musa     42310 Apr 26 13:05  sentiment-analysis.ipynb\r\n",
      "-rw-rw-r-- 1 musa musa    277585 Apr 26 10:30  sentiment-analysis.pdf\r\n",
      "drwxr-xr-x 2 musa musa      4096 Apr 26 05:47  vectorized_data\r\n"
     ]
    }
   ],
   "source": [
    "!ls -la"
   ]
  },
  {
   "cell_type": "code",
   "execution_count": 9,
   "metadata": {},
   "outputs": [
    {
     "name": "stdout",
     "output_type": "stream",
     "text": [
      "imdbEr.txt  imdb.vocab\tREADME\ttest  train\r\n"
     ]
    }
   ],
   "source": [
    "!ls aclImdb"
   ]
  },
  {
   "cell_type": "code",
   "execution_count": 10,
   "metadata": {},
   "outputs": [
    {
     "name": "stdout",
     "output_type": "stream",
     "text": [
      "labeledBow.feat  pos\tunsupBow.feat  urls_pos.txt\r\n",
      "neg\t\t unsup\turls_neg.txt   urls_unsup.txt\r\n"
     ]
    }
   ],
   "source": [
    "!ls aclImdb/train"
   ]
  },
  {
   "cell_type": "code",
   "execution_count": 11,
   "metadata": {},
   "outputs": [
    {
     "name": "stdout",
     "output_type": "stream",
     "text": [
      "labeledBow.feat  neg  pos  urls_neg.txt  urls_pos.txt\r\n"
     ]
    }
   ],
   "source": [
    "!ls aclImdb/test"
   ]
  },
  {
   "cell_type": "code",
   "execution_count": 15,
   "metadata": {},
   "outputs": [
    {
     "name": "stdout",
     "output_type": "stream",
     "text": [
      "0.0490972013402\r\n",
      "0.201363575849\r\n",
      "0.0333946807184\r\n",
      "0.099837669572\r\n",
      "-0.0790210365788\r\n",
      "0.188660139871\r\n",
      "0.00712569582356\r\n",
      "0.109215821589\r\n",
      "-0.154986397986\r\n",
      "-0.222690363917\r\n"
     ]
    }
   ],
   "source": [
    "!head -10 aclImdb/imdbEr.txt"
   ]
  },
  {
   "cell_type": "code",
   "execution_count": 16,
   "metadata": {},
   "outputs": [
    {
     "name": "stdout",
     "output_type": "stream",
     "text": [
      "the\r\n",
      "and\r\n",
      "a\r\n",
      "of\r\n",
      "to\r\n",
      "is\r\n",
      "it\r\n",
      "in\r\n",
      "i\r\n",
      "this\r\n"
     ]
    }
   ],
   "source": [
    "!head -10 aclImdb/imdb.vocab"
   ]
  },
  {
   "cell_type": "code",
   "execution_count": 17,
   "metadata": {},
   "outputs": [
    {
     "name": "stdout",
     "output_type": "stream",
     "text": [
      "Large Movie Review Dataset v1.0\r\n",
      "\r\n",
      "Overview\r\n",
      "\r\n",
      "This dataset contains movie reviews along with their associated binary\r\n",
      "sentiment polarity labels. It is intended to serve as a benchmark for\r\n",
      "sentiment classification. This document outlines how the dataset was\r\n",
      "gathered, and how to use the files provided. \r\n",
      "\r\n",
      "Dataset \r\n",
      "\r\n",
      "The core dataset contains 50,000 reviews split evenly into 25k train\r\n",
      "and 25k test sets. The overall distribution of labels is balanced (25k\r\n",
      "pos and 25k neg). We also include an additional 50,000 unlabeled\r\n",
      "documents for unsupervised learning. \r\n",
      "\r\n",
      "In the entire collection, no more than 30 reviews are allowed for any\r\n",
      "given movie because reviews for the same movie tend to have correlated\r\n",
      "ratings. Further, the train and test sets contain a disjoint set of\r\n",
      "movies, so no significant performance is obtained by memorizing\r\n",
      "movie-unique terms and their associated with observed labels.  In the\r\n",
      "labeled train/test sets, a negative review has a score <= 4 out of 10,\r\n",
      "and a positive review has a score >= 7 out of 10. Thus reviews with\r\n",
      "more neutral ratings are not included in the train/test sets. In the\r\n",
      "unsupervised set, reviews of any rating are included and there are an\r\n",
      "even number of reviews > 5 and <= 5.\r\n",
      "\r\n",
      "Files\r\n",
      "\r\n",
      "There are two top-level directories [train/, test/] corresponding to\r\n",
      "the training and test sets. Each contains [pos/, neg/] directories for\r\n",
      "the reviews with binary labels positive and negative. Within these\r\n",
      "directories, reviews are stored in text files named following the\r\n",
      "convention [[id]_[rating].txt] where [id] is a unique id and [rating] is\r\n",
      "the star rating for that review on a 1-10 scale. For example, the file\r\n",
      "[test/pos/200_8.txt] is the text for a positive-labeled test set\r\n",
      "example with unique id 200 and star rating 8/10 from IMDb. The\r\n",
      "[train/unsup/] directory has 0 for all ratings because the ratings are\r\n",
      "omitted for this portion of the dataset.\r\n",
      "\r\n",
      "We also include the IMDb URLs for each review in a separate\r\n",
      "[urls_[pos, neg, unsup].txt] file. A review with unique id 200 will\r\n",
      "have its URL on line 200 of this file. Due the ever-changing IMDb, we\r\n",
      "are unable to link directly to the review, but only to the movie's\r\n",
      "review page.\r\n",
      "\r\n",
      "In addition to the review text files, we include already-tokenized bag\r\n",
      "of words (BoW) features that were used in our experiments. These \r\n",
      "are stored in .feat files in the train/test directories. Each .feat\r\n",
      "file is in LIBSVM format, an ascii sparse-vector format for labeled\r\n",
      "data.  The feature indices in these files start from 0, and the text\r\n",
      "tokens corresponding to a feature index is found in [imdb.vocab]. So a\r\n",
      "line with 0:7 in a .feat file means the first word in [imdb.vocab]\r\n",
      "(the) appears 7 times in that review.\r\n",
      "\r\n",
      "LIBSVM page for details on .feat file format:\r\n",
      "http://www.csie.ntu.edu.tw/~cjlin/libsvm/\r\n",
      "\r\n",
      "We also include [imdbEr.txt] which contains the expected rating for\r\n",
      "each token in [imdb.vocab] as computed by (Potts, 2011). The expected\r\n",
      "rating is a good way to get a sense for the average polarity of a word\r\n",
      "in the dataset.\r\n",
      "\r\n",
      "Citing the dataset\r\n",
      "\r\n",
      "When using this dataset please cite our ACL 2011 paper which\r\n",
      "introduces it. This paper also contains classification results which\r\n",
      "you may want to compare against.\r\n",
      "\r\n",
      "\r\n",
      "@InProceedings{maas-EtAl:2011:ACL-HLT2011,\r\n",
      "  author    = {Maas, Andrew L.  and  Daly, Raymond E.  and  Pham, Peter T.  and  Huang, Dan  and  Ng, Andrew Y.  and  Potts, Christopher},\r\n",
      "  title     = {Learning Word Vectors for Sentiment Analysis},\r\n",
      "  booktitle = {Proceedings of the 49th Annual Meeting of the Association for Computational Linguistics: Human Language Technologies},\r\n",
      "  month     = {June},\r\n",
      "  year      = {2011},\r\n",
      "  address   = {Portland, Oregon, USA},\r\n",
      "  publisher = {Association for Computational Linguistics},\r\n",
      "  pages     = {142--150},\r\n",
      "  url       = {http://www.aclweb.org/anthology/P11-1015}\r\n",
      "}\r\n",
      "\r\n",
      "References\r\n",
      "\r\n",
      "Potts, Christopher. 2011. On the negativity of negation. In Nan Li and\r\n",
      "David Lutz, eds., Proceedings of Semantics and Linguistic Theory 20,\r\n",
      "636-659.\r\n",
      "\r\n",
      "Contact\r\n",
      "\r\n",
      "For questions/comments/corrections please contact Andrew Maas\r\n",
      "amaas@cs.stanford.edu\r\n"
     ]
    }
   ],
   "source": [
    "!cat aclImdb/README"
   ]
  },
  {
   "cell_type": "markdown",
   "metadata": {},
   "source": [
    "## Environment Setup\n",
    "\n",
    "* Download Week 0 Tuesday folder onto your local filesystem (or wherever you're working)\n",
    "* Create folders you will later need"
   ]
  },
  {
   "cell_type": "code",
   "execution_count": null,
   "metadata": {},
   "outputs": [],
   "source": [
    "!mkdir 'csv' \n",
    "!mkdir 'data_preprocessors' \n",
    "!mkdir 'vectorized_data' \n",
    "!mkdir 'classifiers'"
   ]
  },
  {
   "cell_type": "code",
   "execution_count": 8,
   "metadata": {},
   "outputs": [
    {
     "name": "stdout",
     "output_type": "stream",
     "text": [
      "mkdir: cannot create directory ‘csv’: File exists\n",
      "mkdir: cannot create directory ‘data_preprocessors’: File exists\n",
      "mkdir: cannot create directory ‘vectorized_data’: File exists\n",
      "mkdir: cannot create directory ‘classifiers’: File exists\n"
     ]
    }
   ],
   "source": [
    "!mkdir csv \n",
    "!mkdir data_preprocessors \n",
    "!mkdir vectorized_data \n",
    "!mkdir classifiers"
   ]
  },
  {
   "cell_type": "code",
   "execution_count": 7,
   "metadata": {},
   "outputs": [
    {
     "name": "stdout",
     "output_type": "stream",
     "text": [
      "mkdir: cannot create directory ‘csv’: File exists\r\n",
      "mkdir: cannot create directory ‘data_preprocessors’: File exists\r\n",
      "mkdir: cannot create directory ‘vectorized_data’: File exists\r\n",
      "mkdir: cannot create directory ‘classifiers’: File exists\r\n"
     ]
    }
   ],
   "source": [
    "!mkdir -p csv data_preprocessors vectorized_data classifiers"
   ]
  },
  {
   "cell_type": "markdown",
   "metadata": {},
   "source": [
    "## Imports"
   ]
  },
  {
   "cell_type": "code",
   "execution_count": 21,
   "metadata": {},
   "outputs": [],
   "source": [
    "# pandas library and other Python modules\n",
    "import pandas as pd # data processing, CSV file I/O (e.g. pd.read_csv)\n",
    "import re\n",
    "from os import listdir\n",
    "from os.path import isfile, join\n",
    "from random import shuffle"
   ]
  },
  {
   "cell_type": "code",
   "execution_count": 34,
   "metadata": {},
   "outputs": [],
   "source": [
    "from sklearn.feature_extraction.text import CountVectorizer, TfidfTransformer\n",
    "from sklearn.decomposition import NMF, LatentDirichletAllocation\n",
    "from sklearn.linear_model import SGDClassifier\n",
    "from sklearn.model_selection import train_test_split\n",
    "from sklearn.model_selection import RandomizedSearchCV"
   ]
  },
  {
   "cell_type": "code",
   "execution_count": 35,
   "metadata": {},
   "outputs": [],
   "source": [
    "import numpy as np # linear algebra\n",
    "from joblib import dump, load # used for saving and loading sklearn objects\n",
    "from scipy.sparse import save_npz, load_npz # used for saving and loading sparse matrices\n",
    "from scipy.stats import uniform\n",
    "from scipy.sparse import csr_matrix"
   ]
  },
  {
   "cell_type": "markdown",
   "metadata": {},
   "source": [
    "* <b>joblib</b>: In the specific case of scikit-learn, it may be better to use joblib’s replacement of pickle (dump & load), which is more efficient on objects that carry large numpy arrays internally as is often the case for fitted scikit-learn estimators, but can only pickle to the disk and not to a string:"
   ]
  },
  {
   "cell_type": "markdown",
   "metadata": {},
   "source": [
    "# pandas"
   ]
  },
  {
   "cell_type": "markdown",
   "metadata": {},
   "source": [
    "Pandas is a python package for data query and analysis. It is well known for its versatility in reading numerous types of data file. It also allows for simple data munging and visualization.\n",
    "\n",
    "https://pandas.pydata.org/\n",
    "\n",
    "https://pandas.pydata.org/docs/getting_started/index.html\n",
    "\n",
    "https://pandas.pydata.org/docs/getting_started/intro_tutorials/\n",
    "\n",
    "https://pandas.pydata.org/docs/reference/index.html\n",
    "\n",
    "<b> Pandas is heavily dependent on numpy. It borrows its philosophy from R dataframes. </b>"
   ]
  },
  {
   "cell_type": "markdown",
   "metadata": {},
   "source": [
    "### Data Preprocessing"
   ]
  },
  {
   "cell_type": "code",
   "execution_count": 15,
   "metadata": {},
   "outputs": [],
   "source": [
    "def create_data_frame(folder: str) -> pd.DataFrame:\n",
    "    '''\n",
    "    folder - the root folder of train or test dataset\n",
    "    Returns: a DataFrame with the combined data from the input folder\n",
    "    '''\n",
    "    pos_folder = f'{folder}/pos' # positive reviews\n",
    "    neg_folder = f'{folder}/neg' # negative reviews\n",
    "    \n",
    "    def get_files(fld: str) -> list:\n",
    "        '''\n",
    "        fld - positive or negative reviews folder\n",
    "        Returns: a list with all files in input folder\n",
    "        '''\n",
    "        return [join(fld, f) for f in listdir(fld) if isfile(join(fld, f))]\n",
    "    \n",
    "    def append_files_data(data_list: list, files: list, label: int) -> None:\n",
    "        '''\n",
    "        Appends to 'data_list' tuples of form (file content, label)\n",
    "        for each file in 'files' input list\n",
    "        '''\n",
    "        for file_path in files:\n",
    "            with open(file_path, 'r') as f:\n",
    "                text = f.read()\n",
    "                data_list.append((text, label))\n",
    "    \n",
    "    pos_files = get_files(pos_folder)\n",
    "    neg_files = get_files(neg_folder)\n",
    "    \n",
    "    data_list = []\n",
    "    append_files_data(data_list, pos_files, 1)\n",
    "    append_files_data(data_list, neg_files, 0)\n",
    "    shuffle(data_list)\n",
    "    \n",
    "    text, label = tuple(zip(*data_list))\n",
    "    # replacing line breaks with spaces\n",
    "    text = list(map(lambda txt: re.sub('(<br\\s*/?>)+', ' ', txt), text))\n",
    "    \n",
    "    return pd.DataFrame({'text': text, 'label': label})"
   ]
  },
  {
   "cell_type": "code",
   "execution_count": 22,
   "metadata": {},
   "outputs": [
    {
     "name": "stdout",
     "output_type": "stream",
     "text": [
      "CPU times: user 330 ms, sys: 54 ms, total: 384 ms\n",
      "Wall time: 415 ms\n"
     ]
    }
   ],
   "source": [
    "%%time\n",
    "# imdb_train = create_data_frame('aclImdb/train')\n",
    "# imdb_test = create_data_frame('aclImdb/test')\n",
    "\n",
    "# imdb_train.to_csv('csv/imdb_train.csv', index=False)\n",
    "# imdb_test.to_csv('csv/imdb_test.csv', index=False)\n",
    "\n",
    "imdb_train = pd.read_csv('csv/imdb_train.csv')\n",
    "imdb_test = pd.read_csv('csv/imdb_test.csv')"
   ]
  },
  {
   "cell_type": "code",
   "execution_count": 25,
   "metadata": {},
   "outputs": [
    {
     "data": {
      "text/html": [
       "<div>\n",
       "<style scoped>\n",
       "    .dataframe tbody tr th:only-of-type {\n",
       "        vertical-align: middle;\n",
       "    }\n",
       "\n",
       "    .dataframe tbody tr th {\n",
       "        vertical-align: top;\n",
       "    }\n",
       "\n",
       "    .dataframe thead th {\n",
       "        text-align: right;\n",
       "    }\n",
       "</style>\n",
       "<table border=\"1\" class=\"dataframe\">\n",
       "  <thead>\n",
       "    <tr style=\"text-align: right;\">\n",
       "      <th></th>\n",
       "      <th>text</th>\n",
       "      <th>label</th>\n",
       "    </tr>\n",
       "  </thead>\n",
       "  <tbody>\n",
       "    <tr>\n",
       "      <th>0</th>\n",
       "      <td>The only reason I wanted to see this was becau...</td>\n",
       "      <td>1</td>\n",
       "    </tr>\n",
       "    <tr>\n",
       "      <th>1</th>\n",
       "      <td>One thing i can say about this movie is well l...</td>\n",
       "      <td>1</td>\n",
       "    </tr>\n",
       "    <tr>\n",
       "      <th>2</th>\n",
       "      <td>I honestly believe that ANYONE considering fil...</td>\n",
       "      <td>0</td>\n",
       "    </tr>\n",
       "    <tr>\n",
       "      <th>3</th>\n",
       "      <td>This movie had mediocrity, laziness, and thoug...</td>\n",
       "      <td>0</td>\n",
       "    </tr>\n",
       "    <tr>\n",
       "      <th>4</th>\n",
       "      <td>I love and admire the Farrelly brothers! How c...</td>\n",
       "      <td>1</td>\n",
       "    </tr>\n",
       "    <tr>\n",
       "      <th>5</th>\n",
       "      <td>The story of peace-loving farmers and townspeo...</td>\n",
       "      <td>1</td>\n",
       "    </tr>\n",
       "    <tr>\n",
       "      <th>6</th>\n",
       "      <td>what is wrong with you people, if you weren't ...</td>\n",
       "      <td>1</td>\n",
       "    </tr>\n",
       "    <tr>\n",
       "      <th>7</th>\n",
       "      <td>I was going to give it an 8, but since you peo...</td>\n",
       "      <td>1</td>\n",
       "    </tr>\n",
       "    <tr>\n",
       "      <th>8</th>\n",
       "      <td>i just got puzzled why damn FOX canceled the s...</td>\n",
       "      <td>1</td>\n",
       "    </tr>\n",
       "    <tr>\n",
       "      <th>9</th>\n",
       "      <td>This movie was strange... I watched it while i...</td>\n",
       "      <td>0</td>\n",
       "    </tr>\n",
       "  </tbody>\n",
       "</table>\n",
       "</div>"
      ],
      "text/plain": [
       "                                                text  label\n",
       "0  The only reason I wanted to see this was becau...      1\n",
       "1  One thing i can say about this movie is well l...      1\n",
       "2  I honestly believe that ANYONE considering fil...      0\n",
       "3  This movie had mediocrity, laziness, and thoug...      0\n",
       "4  I love and admire the Farrelly brothers! How c...      1\n",
       "5  The story of peace-loving farmers and townspeo...      1\n",
       "6  what is wrong with you people, if you weren't ...      1\n",
       "7  I was going to give it an 8, but since you peo...      1\n",
       "8  i just got puzzled why damn FOX canceled the s...      1\n",
       "9  This movie was strange... I watched it while i...      0"
      ]
     },
     "execution_count": 25,
     "metadata": {},
     "output_type": "execute_result"
    }
   ],
   "source": [
    "imdb_train.head(n=10)"
   ]
  },
  {
   "cell_type": "code",
   "execution_count": 26,
   "metadata": {},
   "outputs": [
    {
     "data": {
      "text/html": [
       "<div>\n",
       "<style scoped>\n",
       "    .dataframe tbody tr th:only-of-type {\n",
       "        vertical-align: middle;\n",
       "    }\n",
       "\n",
       "    .dataframe tbody tr th {\n",
       "        vertical-align: top;\n",
       "    }\n",
       "\n",
       "    .dataframe thead th {\n",
       "        text-align: right;\n",
       "    }\n",
       "</style>\n",
       "<table border=\"1\" class=\"dataframe\">\n",
       "  <thead>\n",
       "    <tr style=\"text-align: right;\">\n",
       "      <th></th>\n",
       "      <th>text</th>\n",
       "      <th>label</th>\n",
       "    </tr>\n",
       "  </thead>\n",
       "  <tbody>\n",
       "    <tr>\n",
       "      <th>0</th>\n",
       "      <td>The Curse of Monkey Island. Released excactly ...</td>\n",
       "      <td>1</td>\n",
       "    </tr>\n",
       "    <tr>\n",
       "      <th>1</th>\n",
       "      <td>This was like watching the trailer of a up and...</td>\n",
       "      <td>0</td>\n",
       "    </tr>\n",
       "    <tr>\n",
       "      <th>2</th>\n",
       "      <td>The Capture Of Bigfoot is one of the silliest ...</td>\n",
       "      <td>0</td>\n",
       "    </tr>\n",
       "    <tr>\n",
       "      <th>3</th>\n",
       "      <td>This is one of the great modern kung fu films....</td>\n",
       "      <td>1</td>\n",
       "    </tr>\n",
       "    <tr>\n",
       "      <th>4</th>\n",
       "      <td>**** MILD SPOILERS _ BUT YOU PROBABLY KNOW THE...</td>\n",
       "      <td>0</td>\n",
       "    </tr>\n",
       "    <tr>\n",
       "      <th>5</th>\n",
       "      <td>Going into this movie, I was a bit cautious. I...</td>\n",
       "      <td>1</td>\n",
       "    </tr>\n",
       "    <tr>\n",
       "      <th>6</th>\n",
       "      <td>A tedious effort from not-yet great director B...</td>\n",
       "      <td>0</td>\n",
       "    </tr>\n",
       "    <tr>\n",
       "      <th>7</th>\n",
       "      <td>I fail to understand why anyone would allow a ...</td>\n",
       "      <td>0</td>\n",
       "    </tr>\n",
       "    <tr>\n",
       "      <th>8</th>\n",
       "      <td>I think that Vanessa Marcil is the best actor ...</td>\n",
       "      <td>1</td>\n",
       "    </tr>\n",
       "    <tr>\n",
       "      <th>9</th>\n",
       "      <td>Ah yet another Seagal movie.In no less than a ...</td>\n",
       "      <td>0</td>\n",
       "    </tr>\n",
       "  </tbody>\n",
       "</table>\n",
       "</div>"
      ],
      "text/plain": [
       "                                                text  label\n",
       "0  The Curse of Monkey Island. Released excactly ...      1\n",
       "1  This was like watching the trailer of a up and...      0\n",
       "2  The Capture Of Bigfoot is one of the silliest ...      0\n",
       "3  This is one of the great modern kung fu films....      1\n",
       "4  **** MILD SPOILERS _ BUT YOU PROBABLY KNOW THE...      0\n",
       "5  Going into this movie, I was a bit cautious. I...      1\n",
       "6  A tedious effort from not-yet great director B...      0\n",
       "7  I fail to understand why anyone would allow a ...      0\n",
       "8  I think that Vanessa Marcil is the best actor ...      1\n",
       "9  Ah yet another Seagal movie.In no less than a ...      0"
      ]
     },
     "execution_count": 26,
     "metadata": {},
     "output_type": "execute_result"
    }
   ],
   "source": [
    "imdb_test.head(n=10)"
   ]
  },
  {
   "cell_type": "code",
   "execution_count": 29,
   "metadata": {},
   "outputs": [
    {
     "name": "stdout",
     "output_type": "stream",
     "text": [
      "The only reason I wanted to see this was because of Orlando Bloom. Simply put, the movie was spectacularly average. It's not bad, but it's really not very good. The editing is good; the film is well-paced. The direction is competent and assured. The story is plodding. The film is averagely acted by Ledger, Bloom, and the normally great Watts and Rush. The accents are impenetrable if you're from the US so just sit back and enjoy the scenery (or as I like to call it, Orlando Bloom). By the end of the film, I was neither bored nor moved. Some people have asked what happened to Ned Kelly at the end of the movie. I have to say, I so did not care by that point. Really, the only reason I can recommend this is that Orlando Bloom kind of, sort of shows some hints of range (although the oft-present \"I'm pretty and confused\" look is prominent), so fangirls may find it worth the matinee price. Other than that, just don't see it. It's neither good enough nor bad enough to be entertaining.\n"
     ]
    }
   ],
   "source": [
    "print(imdb_train.loc[0, \"text\"])"
   ]
  },
  {
   "cell_type": "markdown",
   "metadata": {},
   "source": [
    "### loc vs iloc\n",
    "s = pd.Series(list(\"abcdef\"), index=[49, 48, 47, 0, 1, 2])\n",
    "\n",
    "49    a\n",
    "48    b\n",
    "47    c\n",
    "0     d\n",
    "1     e\n",
    "2     f\n",
    "\n",
    "s.loc[0]    # value at index label 0\n",
    "\n",
    "'d'\n",
    "\n",
    "s.iloc[0]   # value at index location 0\n",
    "\n",
    "'a'\n",
    "\n",
    "s.loc[0:1]  # rows at index labels between 0 and 1 (inclusive)\n",
    "\n",
    "0    d\n",
    "1    e\n",
    "\n",
    "s.iloc[0:1] # rows at index location between 0 and 1 (exclusive)\n",
    "\n",
    "49    a\n",
    "\n",
    "Ref: https://stackoverflow.com/questions/31593201/how-are-iloc-and-loc-different#:~:text=The%20main%20distinction%20between%20the,or%20columns)%20at%20integer%20locations."
   ]
  },
  {
   "cell_type": "markdown",
   "metadata": {},
   "source": [
    "# Matplotlib"
   ]
  },
  {
   "cell_type": "markdown",
   "metadata": {},
   "source": [
    "This is exclusively a visualization library in python. It is employed for visual involving 2D, 3D and animation. It also serves as dependency for other numerous libraries.\n",
    "\n",
    "https://matplotlib.org/1.3.1/index.html\n",
    "\n",
    "https://github.com/rougier/matplotlib-tutorial\n",
    "\n",
    "https://matplotlib.org/3.2.2/gallery/index.html\n",
    "\n",
    "Pyplot module is the most used.\n",
    "\n",
    "<b> Other visualisation libraries built on top of Matplotlib: </b>\n",
    "* seaborn\n",
    "\n"
   ]
  },
  {
   "cell_type": "markdown",
   "metadata": {},
   "source": [
    "# sklearn"
   ]
  },
  {
   "cell_type": "markdown",
   "metadata": {},
   "source": [
    "Aka Scikit-Learn. An almost-complete library for data analysis and modelling is the <b>sklearn</b> library. It contains various statistical models and few neural network model one might require in any analytic problem. While thre are many modelling libraries out there, <b>sklearn</b> on it's own houses numerous modelling techniques as modules and functions all which come together to make up the library.\n",
    "\n",
    "https://scikit-learn.org/stable/\n",
    "\n",
    "https://scikit-learn.org/stable/getting_started.html\n",
    "\n",
    "### Other libraries for NLP\n",
    "* HuggingFace\n",
    "* Spacy"
   ]
  },
  {
   "cell_type": "markdown",
   "metadata": {},
   "source": [
    "# Modeling"
   ]
  },
  {
   "cell_type": "markdown",
   "metadata": {},
   "source": [
    "Unlike data wrangling, this is widely the interesting part in general data analysis. The step here are as follows:\n",
    "\n",
    "$\\bullet$ determine the set of algorithms to try on the data (classification, regression, neural-net etc).\n",
    "\n",
    "$\\bullet$ model design - data splitting.\n",
    "\n",
    "$\\bullet$ model building\n",
    "\n",
    "$\\bullet$ evaluation (metrics)\n",
    "\n",
    "$\\bullet$ model review"
   ]
  },
  {
   "cell_type": "code",
   "execution_count": null,
   "metadata": {},
   "outputs": [],
   "source": []
  },
  {
   "cell_type": "markdown",
   "metadata": {},
   "source": [
    "<h2><a href=\"https://github.com/lazuxd/simple-imdb-sentiment-analysis/blob/master/sentiment-analysis.ipynb\"> Notebook reference </a></h2>"
   ]
  },
  {
   "cell_type": "markdown",
   "metadata": {},
   "source": [
    "# Building a Sentiment Classifier using Scikit-Learn"
   ]
  },
  {
   "cell_type": "markdown",
   "metadata": {},
   "source": [
    "<center><img src=\"https://raw.githubusercontent.com/lazuxd/simple-imdb-sentiment-analysis/master/smiley.jpg\"/></center>\n",
    "<center><i>Image by AbsolutVision @ <a href=\"https://pixabay.com/ro/photos/smiley-emoticon-furie-sup%C4%83rat-2979107/\">pixabay.com</a></i></center>\n",
    "\n",
    "> &nbsp;&nbsp;&nbsp;&nbsp;**Sentiment analysis**, an important area in Natural Language Processing, is the process of automatically detecting affective states of text. Sentiment analysis is widely applied to voice-of-customer materials such as product reviews in online shopping websites like Amazon, movie reviews or social media. It can be just a basic task of classifying the polarity of a text as being positive/negative or it can go beyond polarity, looking at emotional states such as \"happy\", \"angry\", etc.\n",
    "\n",
    "&nbsp;&nbsp;&nbsp;&nbsp;Here we will build a classifier that is able to distinguish movie reviews as being either positive or negative. For that, we will use [Large Movie Review Dataset v1.0](http://ai.stanford.edu/~amaas/data/sentiment/aclImdb_v1.tar.gz)<sup>(2)</sup> of IMDB movie reviews.\n",
    "This dataset contains 50,000 movie reviews divided evenly into 25k train and 25k test. The labels are balanced between the two classes (positive and negative). <b>Reviews with a score <= 4 out of 10 are labeled negative and those with score >= 7 out of 10 are labeled positive. Neutral reviews are not included in the labeled data.</b> This dataset also contains unlabeled reviews for unsupervised learning; we will not use them here. <b>There are no more than 30 reviews for a particular movie because the ratings of the same movie tend to be correlated. All reviews for a given movie are either in train or test set but not in both, in order to avoid test accuracy gain by memorizing movie-specific terms.</b>\n",
    "\n"
   ]
  },
  {
   "cell_type": "code",
   "execution_count": 30,
   "metadata": {},
   "outputs": [
    {
     "name": "stdout",
     "output_type": "stream",
     "text": [
      "(25000, 2)\n",
      "(25000, 2)\n"
     ]
    }
   ],
   "source": [
    "print(imdb_train.shape)\n",
    "print(imdb_test.shape)"
   ]
  },
  {
   "cell_type": "markdown",
   "metadata": {},
   "source": [
    "## Data preprocessing"
   ]
  },
  {
   "cell_type": "markdown",
   "metadata": {},
   "source": [
    "&nbsp;&nbsp;&nbsp;&nbsp;After the dataset has been downloaded and extracted from archive we have to transform it into a more suitable form for feeding it into a machine learning model for training. We will start by combining all review data into 2 pandas Data Frames representing the train and test datasets, and then saving them as csv files: *imdb_train.csv* and *imdb_test.csv*.  \n",
    "\n",
    "&nbsp;&nbsp;&nbsp;&nbsp;The Data Frames will have the following form:  \n",
    "\n",
    "|text       |label      |\n",
    "|:---------:|:---------:|\n",
    "|review1    |0          |\n",
    "|review2    |1          |\n",
    "|review3    |1          |\n",
    "|.......    |...        |\n",
    "|reviewN    |0          |  \n",
    "\n",
    "&nbsp;&nbsp;&nbsp;&nbsp;where:  \n",
    "- review1, review2, ... = the actual text of movie review  \n",
    "- 0 = negative review  \n",
    "- 1 = positive review"
   ]
  },
  {
   "cell_type": "markdown",
   "metadata": {},
   "source": [
    "<b>But machine learnng algorithms work only with numerical values.</b> We can't just input the text itself into a machine learning model and have it learn from that. We have to, somehow, <b>represent the text by numbers or vectors of numbers</b>. One way of doing this is by using the **Bag-of-words** model<sup>(3)</sup>, in which a piece of text (often called a **document**) is represented by a <b>vector of the counts of words from a vocabulary in that document. This model doesn't take into account grammar rules or word ordering; all it considers is the frequency of words</b>. If we use the counts of each word independently we name this representation a **unigram**. In general, in a **n-gram** we take into account the counts of <b>each combination of n words from the vocabulary that appears in a given document</b>.  \n",
    "\n",
    "&nbsp;&nbsp;&nbsp;&nbsp;For example, consider these two documents:  \n",
    "<br>  \n",
    "<div style=\"font-family: monospace;\"><center><b>d1: \"I am learning\"&nbsp;&nbsp;&nbsp;&nbsp;&nbsp;&nbsp;&nbsp;&nbsp;&nbsp;&nbsp;&nbsp;</b></center></div>  \n",
    "<div style=\"font-family: monospace;\"><center><b>d2: \"Machine learning is cool\"</b></center></div>  \n",
    "<br>\n",
    "The vocabulary of all words encountered in these two sentences is: \n",
    "\n",
    "<br/>  \n",
    "<div style=\"font-family: monospace;\"><center><b>v: [ I, am, learning, machine, is, cool ]</b></center></div>   \n",
    "<br>\n",
    "&nbsp;&nbsp;&nbsp;&nbsp;The unigram representations of d1 and d2:  \n",
    "<br>  \n",
    "\n",
    "|unigram(d1)|I       |am      |learning|machine |is      |cool    |\n",
    "|:---------:|:------:|:------:|:------:|:------:|:------:|:------:|\n",
    "|           |1       |1       |1       |0       |0       |0       |  \n",
    "\n",
    "|unigram(d2)|I       |am      |learning|machine |is      |cool    |\n",
    "|:---------:|:------:|:------:|:------:|:------:|:------:|:------:|\n",
    "|           |0       |0       |1       |1       |1       |1       |\n",
    "  \n",
    "&nbsp;&nbsp;&nbsp;&nbsp;And, the bigrams of d1 and d2 are:\n",
    "  \n",
    "|bigram(d1) |I I     |I am    |I learning|...|machine am|machine learning|...|cool is|cool cool|\n",
    "|:---------:|:------:|:------:|:--------:|:-:|:--------:|:--------------:|:-:|:-----:|:-------:|\n",
    "|           |0       |1       |0         |...|0         |0               |...|0      |0        |  \n",
    "\n",
    "|bigram(d2) |I I     |I am    |I learning|...|machine am|machine learning|...|cool is|cool cool|\n",
    "|:---------:|:------:|:------:|:--------:|:-:|:--------:|:--------------:|:-:|:-----:|:-------:|\n",
    "|           |0       |0       |0         |...|0         |1               |...|0      |0        |"
   ]
  },
  {
   "cell_type": "markdown",
   "metadata": {},
   "source": [
    "&nbsp;&nbsp;&nbsp;&nbsp;Often, we can achieve slightly better results if instead of counts of words we use something called **term frequency times inverse document frequency** (or **tf-idf**). Maybe it sounds complicated, but it is not. Bear with me, I will explain this. The intuition behind this is the following. So, what's the problem of using just the frequency of terms inside a document? <b>Although some terms may have a high frequency inside documents they may not be so relevant for describing a given document in which they appear. That's because those terms may also have a high frequency across the collection of all documents</b>. For example, a collection of movie reviews may have terms specific to movies/cinematography that are present in almost all documents (they have a high **document frequency**). So, when we encounter those terms in a document this doesn't tell much about whether it is a positive or negative review. We need a way of relating **term frequency** (how frequent a term is inside a document) to **document frequency** (how frequent a term is across the whole collection of documents). That is:  \n",
    "  \n",
    "$$\\begin{align}\\frac{\\text{term frequency}}{\\text{document frequency}} &= \\text{term frequency} \\cdot \\frac{1}{\\text{document frequency}} \\\\ &= \\text{term frequency} \\cdot \\text{inverse document frequency} \\\\ &= \\text{tf} \\cdot \\text{idf}\\end{align}$$  \n",
    "  \n",
    "&nbsp;&nbsp;&nbsp;&nbsp;Now, there are more ways used to describe both term frequency and inverse document frequency. But the most common way is by putting them on a logarithmic scale:  \n",
    "  \n",
    "$$tf(t, d) = log(1+f_{t,d})$$  \n",
    "$$idf(t) = log(\\frac{1+N}{1+n_t})$$  \n",
    "  \n",
    "&nbsp;&nbsp;&nbsp;&nbsp;where:  \n",
    "$$\\begin{align}f_{t,d} &= \\text{count of term } \\textbf{t} \\text{ in document } \\textbf{d} \\\\  \n",
    "N &= \\text{total number of documents} \\\\  \n",
    "n_t &= \\text{number of documents that contain term } \\textbf{t}\\end{align}$$  \n",
    "  \n",
    "<b>We added 1 in the first logarithm to avoid getting $-\\infty$ when $f_{t,d}$ is 0. In the second logarithm we added one fake document to avoid division by zero.</b>"
   ]
  },
  {
   "cell_type": "markdown",
   "metadata": {},
   "source": [
    "Before we transform our data into vectors of counts or tf-idf values we should remove English **stopwords**<sup>(6)(7)</sup>. <b>Stopwords are words that are very common in a language</b> and are usually removed in the preprocessing stage of natural text-related tasks like sentiment analysis or search."
   ]
  },
  {
   "cell_type": "markdown",
   "metadata": {},
   "source": [
    "<b>Note that we should construct our vocabulary only based on the training set. When we will process the test data in order to make predictions we should use only the vocabulary constructed in the training phase, the rest of the words will be ignored.</b>"
   ]
  },
  {
   "cell_type": "markdown",
   "metadata": {},
   "source": [
    "&nbsp;&nbsp;&nbsp;&nbsp;Now, let's create the data frames and save them as csv files:"
   ]
  },
  {
   "cell_type": "markdown",
   "metadata": {},
   "source": [
    "### Text vectorization"
   ]
  },
  {
   "cell_type": "markdown",
   "metadata": {},
   "source": [
    "Fortunately, for the text vectorization part all the hard work is already done in the Scikit-Learn classes `CountVectorizer`<sup>(8)</sup> and `TfidfTransformer`<sup>(5)</sup>. We will use these classes to transform our csv files into unigram and bigram matrices (using both counts and tf-idf values). (<b>It turns out that if we only use a n-gram for a large n we don't get a good accuracy, we usually use all n-grams up to some n. So, when we say here bigrams we actually refer to uni+bigrams and when we say unigrams it's just unigrams.</b>) Each row in those matrices will represent a document (review) in our dataset, and each column will represent values associated with each word in the vocabulary (in the case of unigrams) or values associated with each combination of maximum 2 words in the vocabulary (bigrams).  \n",
    "\n",
    "&nbsp;&nbsp;&nbsp;&nbsp;`CountVectorizer` has a parameter `ngram_range` which expects a tuple of size 2 that controls what n-grams to include. After we constructed a `CountVectorizer` object we should call `.fit()` method with the actual text as a parameter, in order for it to learn the required statistics of our collection of documents. Then, by calling `.transform()` method with our collection of documents it returns the matrix for the n-gram range specified. As the class name suggests, this matrix will contain just the counts. To obtain the tf-idf values, the class `TfidfTransformer` should be used. It has the `.fit()` and `.transform()` methods that are used in a similar way with those of `CountVectorizer`, but they take as input the counts matrix obtained in the previous step and `.transform()` will return a matrix with tf-idf values. We should use `.fit()` only on training data and then store these objects. When we want to evaluate the test score or whenever we want to make a prediction we should use these objects to transform the data before feeding it into our classifier.  \n",
    "\n",
    "&nbsp;&nbsp;&nbsp;&nbsp;Note that the matrices generated for our train or test data will be huge, and if we store them as normal numpy arrays they will not even fit into RAM. But most of the entries in these matrices will be zero. So, these Scikit-Learn classes are using Scipy sparse matrices<sup>(9)</sup> (`csr_matrix`<sup>(10)</sup> to be more exactly), which store just the non-zero entries and save a LOT of space.  \n",
    "\n",
    "&nbsp;&nbsp;&nbsp;&nbsp;We will use a linear classifier with stochastic gradient descent, `sklearn.linear_model.SGDClassifier`<sup>(11)</sup>, as our model. First we will generate and save our data in 4 forms: unigram and bigram matrix (with both counts and tf-idf values for each). Then we will train and evaluate our model for each these 4 data representations using `SGDClassifier` with the default parameters. After that, we choose the data representation which led to the best score and we will tune the hyper-parameters of our model with this data form using cross-validation in order to obtain the best results.\n",
    "\n",
    "<b>Refs:</b> \n",
    "* Convert a collection of text documents to a matrix of token counts: https://scikit-learn.org/stable/modules/generated/sklearn.feature_extraction.text.CountVectorizer.html\n",
    "* Convert a collection of raw documents to a matrix of TF-IDF features: https://scikit-learn.org/stable/modules/generated/sklearn.feature_extraction.text.TfidfVectorizer.html\n"
   ]
  },
  {
   "cell_type": "code",
   "execution_count": null,
   "metadata": {},
   "outputs": [],
   "source": []
  },
  {
   "cell_type": "markdown",
   "metadata": {},
   "source": [
    "#### Unigram Counts"
   ]
  },
  {
   "cell_type": "code",
   "execution_count": 36,
   "metadata": {},
   "outputs": [
    {
     "name": "stdout",
     "output_type": "stream",
     "text": [
      "CPU times: user 274 ms, sys: 0 ns, total: 274 ms\n",
      "Wall time: 327 ms\n"
     ]
    }
   ],
   "source": [
    "%%time\n",
    "# TRAINING\n",
    "# unigram_vectorizer = CountVectorizer(ngram_range=(1, 1))\n",
    "# unigram_vectorizer.fit(imdb_train['text'].values)\n",
    "# dump(unigram_vectorizer, 'data_preprocessors/unigram_vectorizer.joblib')\n",
    "\n",
    "# TESTING\n",
    "unigram_vectorizer = load('data_preprocessors/unigram_vectorizer.joblib')"
   ]
  },
  {
   "cell_type": "code",
   "execution_count": 38,
   "metadata": {},
   "outputs": [
    {
     "data": {
      "text/plain": [
       "{'the': 66339,\n",
       " 'only': 46957,\n",
       " 'reason': 53880,\n",
       " 'wanted': 72091,\n",
       " 'to': 67125,\n",
       " 'see': 58585,\n",
       " 'this': 66562,\n",
       " 'was': 72196,\n",
       " 'because': 6459,\n",
       " 'of': 46680,\n",
       " 'orlando': 47301,\n",
       " 'bloom': 7891,\n",
       " 'simply': 60326,\n",
       " 'put': 52709,\n",
       " 'movie': 44147,\n",
       " 'spectacularly': 62101,\n",
       " 'average': 5175,\n",
       " 'it': 34683,\n",
       " 'not': 46050,\n",
       " 'bad': 5502,\n",
       " 'but': 9881,\n",
       " 'really': 53839,\n",
       " 'very': 71159,\n",
       " 'good': 28068,\n",
       " 'editing': 20934,\n",
       " 'is': 34585,\n",
       " 'film': 24536,\n",
       " 'well': 72557,\n",
       " 'paced': 47944,\n",
       " 'direction': 18568,\n",
       " 'competent': 13737,\n",
       " 'and': 3258,\n",
       " 'assured': 4681,\n",
       " 'story': 63422,\n",
       " 'plodding': 50420,\n",
       " 'averagely': 5177,\n",
       " 'acted': 1617,\n",
       " 'by': 9962,\n",
       " 'ledger': 38184,\n",
       " 'normally': 45989,\n",
       " 'great': 28545,\n",
       " 'watts': 72315,\n",
       " 'rush': 56835,\n",
       " 'accents': 1402,\n",
       " 'are': 4124,\n",
       " 'impenetrable': 32822,\n",
       " 'if': 32517,\n",
       " 'you': 74324,\n",
       " 're': 53749,\n",
       " 'from': 26180,\n",
       " 'us': 70492,\n",
       " 'so': 61380,\n",
       " 'just': 35787,\n",
       " 'sit': 60478,\n",
       " 'back': 5436,\n",
       " 'enjoy': 21922,\n",
       " 'scenery': 57877,\n",
       " 'or': 47142,\n",
       " 'as': 4465,\n",
       " 'like': 38755,\n",
       " 'call': 10204,\n",
       " 'end': 21770,\n",
       " 'neither': 45287,\n",
       " 'bored': 8491,\n",
       " 'nor': 45964,\n",
       " 'moved': 44136,\n",
       " 'some': 61617,\n",
       " 'people': 49147,\n",
       " 'have': 30118,\n",
       " 'asked': 4542,\n",
       " 'what': 72703,\n",
       " 'happened': 29774,\n",
       " 'ned': 45198,\n",
       " 'kelly': 36301,\n",
       " 'at': 4753,\n",
       " 'say': 57715,\n",
       " 'did': 18292,\n",
       " 'care': 10637,\n",
       " 'that': 66322,\n",
       " 'point': 50578,\n",
       " 'can': 10357,\n",
       " 'recommend': 54079,\n",
       " 'kind': 36608,\n",
       " 'sort': 61785,\n",
       " 'shows': 59901,\n",
       " 'hints': 31053,\n",
       " 'range': 53455,\n",
       " 'although': 2861,\n",
       " 'oft': 46740,\n",
       " 'present': 51499,\n",
       " 'pretty': 51594,\n",
       " 'confused': 14136,\n",
       " 'look': 39364,\n",
       " 'prominent': 51992,\n",
       " 'fangirls': 23733,\n",
       " 'may': 41513,\n",
       " 'find': 24629,\n",
       " 'worth': 73702,\n",
       " 'matinee': 41392,\n",
       " 'price': 51632,\n",
       " 'other': 47407,\n",
       " 'than': 66299,\n",
       " 'don': 19563,\n",
       " 'enough': 21966,\n",
       " 'be': 6334,\n",
       " 'entertaining': 22056,\n",
       " 'one': 46932,\n",
       " 'thing': 66518,\n",
       " 'about': 1277,\n",
       " 'long': 39320,\n",
       " 'actually': 1670,\n",
       " 'recently': 53997,\n",
       " 'purchased': 52609,\n",
       " 'couple': 15136,\n",
       " 'months': 43705,\n",
       " 'ago': 2220,\n",
       " 'seeing': 58596,\n",
       " 'there': 66432,\n",
       " 'new': 45440,\n",
       " 'version': 71137,\n",
       " 'coming': 13528,\n",
       " 'out': 47449,\n",
       " 'happy': 29790,\n",
       " 'made': 40170,\n",
       " 'in': 33004,\n",
       " '1978': 386,\n",
       " '70': 860,\n",
       " 'even': 22718,\n",
       " 'though': 66619,\n",
       " 'never': 45429,\n",
       " 'lived': 39057,\n",
       " 'them': 66376,\n",
       " 'my': 44639,\n",
       " 'favourite': 24012,\n",
       " 'decades': 16882,\n",
       " 'especially': 22482,\n",
       " 'for': 25450,\n",
       " 'music': 44529,\n",
       " 'when': 72753,\n",
       " 'watched': 72253,\n",
       " 'start': 62902,\n",
       " 'then': 66390,\n",
       " 'after': 2121,\n",
       " '50': 756,\n",
       " 'mins': 42955,\n",
       " 'started': 62903,\n",
       " 'get': 27304,\n",
       " 'boring': 8512,\n",
       " 'repetitive': 54976,\n",
       " 'will': 73091,\n",
       " 'admitt': 1836,\n",
       " 'animation': 3421,\n",
       " 'impress': 32937,\n",
       " 'me': 41798,\n",
       " 'nothing': 46074,\n",
       " 'had': 29369,\n",
       " 'ever': 22737,\n",
       " 'seen': 58613,\n",
       " 'before': 6579,\n",
       " 'cool': 14695,\n",
       " 'honestly': 31487,\n",
       " 'could': 15056,\n",
       " 'been': 6543,\n",
       " 'bit': 7485,\n",
       " 'better': 7095,\n",
       " 'alot': 2793,\n",
       " 'more': 43838,\n",
       " 'talking': 65392,\n",
       " '15': 155,\n",
       " '20': 439,\n",
       " 'minute': 42968,\n",
       " 'scenes': 57878,\n",
       " 'wierd': 73021,\n",
       " 'fighting': 24483,\n",
       " 'last': 37840,\n",
       " '10': 39,\n",
       " 'minutes': 42972,\n",
       " 'picked': 49830,\n",
       " 'up': 70331,\n",
       " 'got': 28216,\n",
       " 'again': 2148,\n",
       " 'ended': 21788,\n",
       " 'unexpectedly': 69547,\n",
       " 'opinion': 47068,\n",
       " 'thought': 66621,\n",
       " 'extremely': 23376,\n",
       " 'know': 36915,\n",
       " 'its': 34721,\n",
       " '13': 119,\n",
       " 'over': 47612,\n",
       " 'hours': 31818,\n",
       " 'still': 63226,\n",
       " 'cartoon': 10850,\n",
       " 'since': 60351,\n",
       " 'most': 43995,\n",
       " 'seem': 58604,\n",
       " 'overall': 47623,\n",
       " 'an': 3167,\n",
       " 'okay': 46803,\n",
       " 'guess': 28997,\n",
       " 'watch': 72246,\n",
       " 'on': 46916,\n",
       " 'those': 66615,\n",
       " 'do': 19326,\n",
       " 'days': 16710,\n",
       " 'hope': 31595,\n",
       " 'believe': 6720,\n",
       " 'anyone': 3715,\n",
       " 'considering': 14310,\n",
       " 'making': 40441,\n",
       " 'subjected': 63931,\n",
       " 'mind': 42844,\n",
       " 'boggling': 8153,\n",
       " 'failure': 23565,\n",
       " 'films': 24581,\n",
       " 'edward': 20966,\n",
       " 'wood': 73516,\n",
       " 'jr': 35627,\n",
       " '60s': 825,\n",
       " '70s': 867,\n",
       " 'shining': 59629,\n",
       " 'example': 22881,\n",
       " 'why': 72965,\n",
       " 'real': 53809,\n",
       " 'filmmakers': 24570,\n",
       " 'expend': 23147,\n",
       " 'much': 44241,\n",
       " 'energy': 21836,\n",
       " 'rewriting': 55620,\n",
       " 'scripts': 58317,\n",
       " 'their': 66367,\n",
       " 'reworking': 55614,\n",
       " 'special': 62056,\n",
       " 'effects': 21020,\n",
       " 'until': 70237,\n",
       " 'they': 66474,\n",
       " 'finally': 24616,\n",
       " 'right': 55827,\n",
       " 'also': 2821,\n",
       " 'decent': 16916,\n",
       " 'argument': 4165,\n",
       " 'studios': 63774,\n",
       " 'pre': 51253,\n",
       " 'screening': 58270,\n",
       " 'process': 51807,\n",
       " 'mr': 44205,\n",
       " 'hines': 31035,\n",
       " 'were': 72601,\n",
       " 'forced': 25465,\n",
       " 'endure': 21820,\n",
       " 'honest': 31486,\n",
       " 'reactions': 53770,\n",
       " 'impartial': 32800,\n",
       " 'audience': 4956,\n",
       " 'perhaps': 49254,\n",
       " 'he': 30211,\n",
       " 'would': 73714,\n",
       " 'cut': 16122,\n",
       " '75': 883,\n",
       " 'walking': 71998,\n",
       " 'running': 56810,\n",
       " 'strolling': 63690,\n",
       " 'edited': 20931,\n",
       " 'down': 19854,\n",
       " 'bearable': 6376,\n",
       " '90': 950,\n",
       " 'students': 63768,\n",
       " 'should': 59848,\n",
       " 'view': 71330,\n",
       " 'how': 31858,\n",
       " 'dangerous': 16454,\n",
       " 'thinking': 66531,\n",
       " 'work': 73616,\n",
       " 'truly': 68377,\n",
       " 'every': 22760,\n",
       " 'performance': 49241,\n",
       " 'line': 38871,\n",
       " 'dialog': 18201,\n",
       " 'digital': 18388,\n",
       " 'effect': 21014,\n",
       " 'filter': 24593,\n",
       " 'indeed': 33263,\n",
       " 'frame': 25804,\n",
       " 'video': 71281,\n",
       " 'expresses': 23269,\n",
       " 'danger': 16451,\n",
       " 'striving': 63670,\n",
       " 'mere': 42278,\n",
       " 'mediocrity': 41939,\n",
       " 'beginning': 6611,\n",
       " 'filmmaker': 24569,\n",
       " 'himself': 31014,\n",
       " 'herself': 30752,\n",
       " 'tempted': 66001,\n",
       " 'time': 66925,\n",
       " 'think': 66526,\n",
       " 'least': 38132,\n",
       " 'accomplished': 1459,\n",
       " 'something': 61638,\n",
       " 'finishing': 24670,\n",
       " 'accomplishment': 1462,\n",
       " 'itself': 34722,\n",
       " 'help': 30548,\n",
       " 'understand': 69390,\n",
       " 'badly': 5535,\n",
       " 'turn': 68612,\n",
       " 'critics': 15626,\n",
       " 'might': 42658,\n",
       " 'benefit': 6839,\n",
       " 'dub': 20278,\n",
       " 'latest': 37867,\n",
       " 'summer': 64304,\n",
       " 'entertainment': 22058,\n",
       " 'worst': 73700,\n",
       " 'writers': 73830,\n",
       " 'learn': 38118,\n",
       " 'important': 32903,\n",
       " 'rewrites': 55619,\n",
       " 'necessity': 45172,\n",
       " 'directors': 18580,\n",
       " 'importance': 32901,\n",
       " 'screenplay': 58273,\n",
       " 'degree': 17242,\n",
       " 'respect': 55262,\n",
       " 'hard': 29821,\n",
       " 'write': 73827,\n",
       " 'script': 58311,\n",
       " 'causes': 11143,\n",
       " 'feel': 24123,\n",
       " 'emotionally': 21615,\n",
       " 'compelled': 13718,\n",
       " 'through': 66699,\n",
       " 'who': 72904,\n",
       " 'cable': 10037,\n",
       " 'movies': 44164,\n",
       " 'week': 72452,\n",
       " 'idea': 32435,\n",
       " 'difficult': 18348,\n",
       " 'produce': 51850,\n",
       " 'mediocre': 41936,\n",
       " 'results': 55346,\n",
       " 'sincerely': 60353,\n",
       " 'serve': 58999,\n",
       " 'educational': 20960,\n",
       " 'tool': 67328,\n",
       " 'particularly': 48559,\n",
       " 'entering': 22043,\n",
       " 'craft': 15291,\n",
       " 'current': 16055,\n",
       " 'post': 51013,\n",
       " 'lucas': 39669,\n",
       " 'spielberg': 62209,\n",
       " 'environment': 22157,\n",
       " 'such': 64115,\n",
       " 'these': 66458,\n",
       " 'hailed': 29441,\n",
       " 'ability': 1223,\n",
       " 'with': 73342,\n",
       " 'war': 72098,\n",
       " 'worlds': 73658,\n",
       " 'illustrates': 32632,\n",
       " 'clearly': 12762,\n",
       " 'everyone': 22767,\n",
       " 'pull': 52487,\n",
       " 'off': 46684,\n",
       " 'come': 13485,\n",
       " 'close': 12931,\n",
       " 'laziness': 38059,\n",
       " 'thoughtlessness': 66627,\n",
       " 'written': 73840,\n",
       " 'all': 2662,\n",
       " 'going': 27963,\n",
       " 'vampires': 70751,\n",
       " 'has': 29999,\n",
       " 'done': 19585,\n",
       " 'thousands': 66633,\n",
       " 'times': 66943,\n",
       " 'already': 2814,\n",
       " 'damn': 16393,\n",
       " 'job': 35385,\n",
       " 'll': 39101,\n",
       " 'first': 24750,\n",
       " 'scary': 57836,\n",
       " 'horror': 31685,\n",
       " 'fail': 23559,\n",
       " 'break': 8911,\n",
       " 'mold': 43477,\n",
       " 'lets': 38480,\n",
       " 'forbidden': 25459,\n",
       " 'forsaken': 25637,\n",
       " 'sake': 57167,\n",
       " 'fun': 26333,\n",
       " 'stories': 63405,\n",
       " 'lies': 38675,\n",
       " 'cliché': 12817,\n",
       " 'sadly': 57075,\n",
       " 'no': 45805,\n",
       " 'different': 18336,\n",
       " 'once': 46921,\n",
       " 'venture': 71040,\n",
       " 'road': 56050,\n",
       " 'ending': 21795,\n",
       " 'heroes': 30722,\n",
       " 'same': 57283,\n",
       " 'throughout': 66703,\n",
       " 'mysteriously': 44681,\n",
       " 'wrapped': 73760,\n",
       " 'moment': 43526,\n",
       " 'cannot': 10442,\n",
       " 'anti': 3606,\n",
       " 'climatic': 12846,\n",
       " 'spelled': 62154,\n",
       " 'part': 48525,\n",
       " 'which': 72773,\n",
       " 'terrible': 66150,\n",
       " 'love': 39562,\n",
       " 'admire': 1824,\n",
       " 'farrelly': 23861,\n",
       " 'brothers': 9304,\n",
       " 'years': 74158,\n",
       " 'release': 54663,\n",
       " 'laugh': 37918,\n",
       " 'cry': 15841,\n",
       " 'reeeaally': 54286,\n",
       " 'warmed': 72141,\n",
       " 'heart': 30297,\n",
       " 'big': 7260,\n",
       " 'describe': 17779,\n",
       " 'rotten': 56531,\n",
       " 'english': 21885,\n",
       " 'try': 68410,\n",
       " 'anyway': 3720,\n",
       " 'cast': 10955,\n",
       " 'excellent': 22912,\n",
       " 'lead': 38078,\n",
       " 'supporting': 64544,\n",
       " 'roles': 56270,\n",
       " 'acting': 1623,\n",
       " 'dialogs': 18203,\n",
       " 'perfectly': 49228,\n",
       " 'directed': 18564,\n",
       " 'often': 46741,\n",
       " 'underestimated': 69317,\n",
       " 'light': 38720,\n",
       " 'comedies': 13495,\n",
       " 'deeeeeep': 17051,\n",
       " 'talk': 65381,\n",
       " 'life': 38683,\n",
       " 'won': 73491,\n",
       " 'tell': 65944,\n",
       " 'case': 10894,\n",
       " 'affirmed': 2053,\n",
       " 'relationships': 54642,\n",
       " 'somebody': 61618,\n",
       " 'set': 59025,\n",
       " 'free': 25967,\n",
       " 'let': 38466,\n",
       " 'share': 59335,\n",
       " 'passion': 48629,\n",
       " 'pain': 48046,\n",
       " 'always': 2893,\n",
       " 'true': 68360,\n",
       " 'each': 20694,\n",
       " 'sports': 62429,\n",
       " 'hater': 30060,\n",
       " 'definitely': 17179,\n",
       " 'ignorant': 32550,\n",
       " 'vibes': 71216,\n",
       " 'smell': 61081,\n",
       " 'atmosphere': 4818,\n",
       " 'baseball': 6115,\n",
       " 'explained': 23187,\n",
       " 'being': 6663,\n",
       " 'fan': 23699,\n",
       " 'mean': 41813,\n",
       " 'families': 23688,\n",
       " 'must': 44560,\n",
       " 'thanks': 66312,\n",
       " 'pete': 49492,\n",
       " 'bob': 8053,\n",
       " 'haven': 30121,\n",
       " 'please': 50365,\n",
       " 'check': 11806,\n",
       " 'kingpin': 36647,\n",
       " 'peace': 48881,\n",
       " 'loving': 39597,\n",
       " 'farmers': 23835,\n",
       " 'townspeople': 67611,\n",
       " 'land': 37637,\n",
       " 'water': 72270,\n",
       " 'law': 37996,\n",
       " 'order': 47196,\n",
       " 'ultimate': 68959,\n",
       " 'subjugation': 63942,\n",
       " 'entrenched': 22114,\n",
       " 'cattle': 11109,\n",
       " 'interests': 34081,\n",
       " 'hired': 31081,\n",
       " 'guns': 29164,\n",
       " 'worked': 73623,\n",
       " 'earlier': 20724,\n",
       " 'shane': 59295,\n",
       " 'probably': 51773,\n",
       " 'later': 37864,\n",
       " 'action': 1628,\n",
       " 'general': 27092,\n",
       " 'layout': 38041,\n",
       " 'excluding': 22962,\n",
       " 'disappointing': 18640,\n",
       " 'executed': 23005,\n",
       " 'religion': 54703,\n",
       " 'established': 22531,\n",
       " 'roots': 56408,\n",
       " 'town': 67594,\n",
       " 'old': 46830,\n",
       " 'drives': 20153,\n",
       " 'cowboys': 15217,\n",
       " 'gunslingers': 29170,\n",
       " 'around': 4297,\n",
       " 'clash': 12667,\n",
       " 'two': 68769,\n",
       " 'occurs': 46599,\n",
       " 'nicely': 45542,\n",
       " 'staged': 62699,\n",
       " 'ambush': 2990,\n",
       " 'scene': 57873,\n",
       " 'where': 72757,\n",
       " 'townsmen': 67610,\n",
       " 'ride': 55757,\n",
       " 'into': 34255,\n",
       " 'trap': 67899,\n",
       " 'granger': 28429,\n",
       " 'ex': 22850,\n",
       " 'gunfighter': 29129,\n",
       " 'plays': 50337,\n",
       " 'guy': 29233,\n",
       " 'shunned': 59999,\n",
       " 'need': 45203,\n",
       " 'his': 31095,\n",
       " 'expertise': 23172,\n",
       " 'gun': 29119,\n",
       " 'wrong': 73842,\n",
       " 'weren': 72603,\n",
       " 'blown': 7932,\n",
       " 'away': 5252,\n",
       " 'car': 10589,\n",
       " 'sequences': 58909,\n",
       " 'jessica': 35238,\n",
       " 'simpsons': 60331,\n",
       " 'hot': 31769,\n",
       " 'body': 8102,\n",
       " 'majorly': 40414,\n",
       " 'screwed': 58288,\n",
       " 'head': 30212,\n",
       " 'course': 15153,\n",
       " 'isn': 34644,\n",
       " 'masterpiece': 41294,\n",
       " 'aiming': 2326,\n",
       " 'funny': 26385,\n",
       " 'show': 59873,\n",
       " 'younger': 74338,\n",
       " 'saw': 57693,\n",
       " 'episode': 22218,\n",
       " 'felt': 24199,\n",
       " 'seats': 58484,\n",
       " 'practically': 51188,\n",
       " 'shaking': 59240,\n",
       " 'didn': 18303,\n",
       " 'bore': 8489,\n",
       " 'drag': 19940,\n",
       " '2fast': 588,\n",
       " '2furious': 589,\n",
       " 'simpson': 60329,\n",
       " 'plain': 50218,\n",
       " 'wish': 73304,\n",
       " 'used': 70506,\n",
       " 'her': 30646,\n",
       " 'hell': 30505,\n",
       " 'watching': 72259,\n",
       " 'go': 27863,\n",
       " 'soon': 61706,\n",
       " 'buy': 9929,\n",
       " 'dvd': 20584,\n",
       " 'give': 27616,\n",
       " 'lot': 39486,\n",
       " 'votes': 71763,\n",
       " 'contribution': 14579,\n",
       " 'river': 56004,\n",
       " 'styx': 63891,\n",
       " 'pure': 52616,\n",
       " 'genius': 27147,\n",
       " 'sure': 64589,\n",
       " 'woody': 73556,\n",
       " 'perennial': 49215,\n",
       " 'stuff': 63783,\n",
       " 'role': 56269,\n",
       " 'appropriate': 3957,\n",
       " 'half': 29503,\n",
       " 'hour': 31815,\n",
       " 'hilarious': 30961,\n",
       " 'rest': 55299,\n",
       " 'easy': 20793,\n",
       " 'clever': 12803,\n",
       " 'card': 10618,\n",
       " 'tricks': 68137,\n",
       " 'parties': 48566,\n",
       " 'along': 2782,\n",
       " 'reaction': 53766,\n",
       " 'upper': 70380,\n",
       " 'crust': 15832,\n",
       " 'newspaper': 45487,\n",
       " 'sound': 61831,\n",
       " 'plus': 50496,\n",
       " 'little': 39044,\n",
       " 'sorcerer': 61753,\n",
       " 'apprentice': 3948,\n",
       " 'notice': 46078,\n",
       " 'johansen': 35438,\n",
       " 'getting': 27317,\n",
       " 'frumpy': 26224,\n",
       " 'charles': 11675,\n",
       " 'dance': 16419,\n",
       " 'hugh': 31986,\n",
       " 'jackman': 34821,\n",
       " 'puzzled': 52737,\n",
       " 'fox': 25747,\n",
       " 'canceled': 10369,\n",
       " 'season3': 58471,\n",
       " 'season2': 58470,\n",
       " 'season1': 58469,\n",
       " 'buying': 9932,\n",
       " 'amazon': 2955,\n",
       " 'failed': 23560,\n",
       " 'am': 2906,\n",
       " 'chinese': 12093,\n",
       " 'student': 63767,\n",
       " 'inconvenient': 33200,\n",
       " 'international': 34143,\n",
       " 'credit': 15455,\n",
       " 'bring': 9127,\n",
       " 'da': 16234,\n",
       " 'someday': 61619,\n",
       " 'somehow': 61621,\n",
       " 'strange': 63495,\n",
       " 'while': 72784,\n",
       " 'ingesting': 33611,\n",
       " 'quarter': 52887,\n",
       " 'psilcybe': 52319,\n",
       " 'cubensis': 15903,\n",
       " 'mushrooms': 44527,\n",
       " 'weird': 72521,\n",
       " 'im': 32651,\n",
       " 'supposed': 64551,\n",
       " 'high': 30902,\n",
       " 'couldn': 15058,\n",
       " 'stop': 63380,\n",
       " 'laughing': 37925,\n",
       " 'maybe': 41519,\n",
       " 'lsd': 39651,\n",
       " 'bunch': 9661,\n",
       " 'things': 66524,\n",
       " 'morphing': 43912,\n",
       " 'dancing': 16428,\n",
       " 'cheesy': 11867,\n",
       " 'todays': 67154,\n",
       " 'standards': 62803,\n",
       " 'released': 54664,\n",
       " 'interesting': 34079,\n",
       " 'your': 74349,\n",
       " 'having': 30131,\n",
       " 'party': 48587,\n",
       " 'everybodys': 22764,\n",
       " 'lit': 39005,\n",
       " 'pop': 50823,\n",
       " 'few': 24364,\n",
       " 'laughs': 37930,\n",
       " 'ho': 31192,\n",
       " 'homicidal': 31446,\n",
       " 'maniac': 40696,\n",
       " 'spirited': 62269,\n",
       " 'tour': 67556,\n",
       " 'de': 16742,\n",
       " 'force': 25463,\n",
       " 'adaptation': 1704,\n",
       " 'ec': 20833,\n",
       " 'comics': 13523,\n",
       " 'tale': 65365,\n",
       " 'undoubtedly': 69471,\n",
       " 'best': 7045,\n",
       " 'episodes': 22219,\n",
       " 'tv': 68685,\n",
       " 'series': 58970,\n",
       " 'director': 18577,\n",
       " 'robert': 56106,\n",
       " 'future': 26452,\n",
       " 'zemeckis': 74587,\n",
       " 'makes': 40431,\n",
       " 'witty': 73392,\n",
       " 'fred': 25952,\n",
       " 'night': 45638,\n",
       " 'creeps': 15486,\n",
       " 'monster': 43658,\n",
       " 'squad': 62552,\n",
       " 'dekker': 17281,\n",
       " 'centers': 11340,\n",
       " 'ruthless': 56878,\n",
       " 'timing': 66958,\n",
       " 'housewife': 31842,\n",
       " 'played': 50315,\n",
       " 'mary': 41178,\n",
       " 'ellen': 21361,\n",
       " 'trainor': 67721,\n",
       " 'married': 41091,\n",
       " 'she': 59426,\n",
       " 'starred': 62891,\n",
       " 'kills': 36574,\n",
       " 'jilted': 35325,\n",
       " 'jerk': 35208,\n",
       " 'husband': 32194,\n",
       " 'nice': 45541,\n",
       " 'cameo': 10276,\n",
       " 'marshall': 41107,\n",
       " 'bell': 6738,\n",
       " 'christmas': 12286,\n",
       " 'eve': 22715,\n",
       " 'whacking': 72682,\n",
       " 'him': 31002,\n",
       " 'upside': 70404,\n",
       " 'fire': 24697,\n",
       " 'poker': 50610,\n",
       " 'complications': 13802,\n",
       " 'ensue': 22014,\n",
       " 'deranged': 17703,\n",
       " 'murderous': 44464,\n",
       " 'madman': 40194,\n",
       " 'dressed': 20090,\n",
       " 'jolly': 35495,\n",
       " 'kris': 37161,\n",
       " 'kringle': 37160,\n",
       " 'escapes': 22428,\n",
       " 'nearby': 45136,\n",
       " 'asylum': 4749,\n",
       " 'decides': 16932,\n",
       " 'pay': 48834,\n",
       " 'decidedly': 16930,\n",
       " 'unfriendly': 69635,\n",
       " 'visit': 71551,\n",
       " 'alan': 2464,\n",
       " 'silvestri': 60268,\n",
       " 'spooky': 62406,\n",
       " 'stirring': 63284,\n",
       " 'score': 58161,\n",
       " 'dean': 16783,\n",
       " 'cundey': 15996,\n",
       " 'typically': 68812,\n",
       " 'polished': 50662,\n",
       " 'cinematography': 12480,\n",
       " 'further': 26422,\n",
       " 'enhance': 21905,\n",
       " 'macabre': 40010,\n",
       " 'larry': 37791,\n",
       " 'drake': 19969,\n",
       " 'sweet': 64884,\n",
       " 'gentle': 27172,\n",
       " 'giant': 27406,\n",
       " 'benny': 6878,\n",
       " 'creepy': 15488,\n",
       " 'hiccuping': 30849,\n",
       " 'guffaw': 29011,\n",
       " 'demented': 17422,\n",
       " 'twinkle': 68743,\n",
       " 'bright': 9091,\n",
       " 'green': 28564,\n",
       " 'eyes': 23427,\n",
       " 'leering': 38197,\n",
       " 'wicked': 72977,\n",
       " 'grin': 28707,\n",
       " 'sensational': 58801,\n",
       " 'sanguinary': 57399,\n",
       " 'saint': 57148,\n",
       " 'nick': 45558,\n",
       " 'claustrophobic': 12717,\n",
       " 'camera': 10279,\n",
       " 'angles': 3374,\n",
       " 'too': 67324,\n",
       " 'face': 23484,\n",
       " 'shots': 59843,\n",
       " 'feeling': 24125,\n",
       " 'lower': 39612,\n",
       " 'missing': 43192,\n",
       " 'screen': 58264,\n",
       " 'seems': 58611,\n",
       " 'actions': 1639,\n",
       " 'confusion': 14141,\n",
       " 'viewing': 71337,\n",
       " 'make': 40421,\n",
       " 'worse': 73683,\n",
       " 'contribute': 14574,\n",
       " 'artful': 4387,\n",
       " 'visuals': 71577,\n",
       " 'artfully': 4388,\n",
       " 'unconventional': 69237,\n",
       " 'handle': 29678,\n",
       " 'deep': 17059,\n",
       " 'slow': 60971,\n",
       " 'trying': 68412,\n",
       " 'fails': 23564,\n",
       " 'painfully': 48052,\n",
       " 'attached': 4851,\n",
       " 'any': 3703,\n",
       " 'characters': 11635,\n",
       " 'needed': 45204,\n",
       " 'actors': 1657,\n",
       " 'wonder': 73492,\n",
       " 'whether': 72768,\n",
       " 'due': 20337,\n",
       " 'stay': 62974,\n",
       " 'both': 8583,\n",
       " 'le': 38073,\n",
       " 'annoying': 3513,\n",
       " 'someone': 61624,\n",
       " 'interested': 34076,\n",
       " 'history': 31119,\n",
       " 'spent': 62169,\n",
       " 'shanghai': 59297,\n",
       " 'plot': 50428,\n",
       " 'dialogue': 18204,\n",
       " 'idiotic': 32484,\n",
       " 'directing': 18567,\n",
       " 'porn': 50890,\n",
       " 'groove': 28798,\n",
       " 'soundtrack': 61845,\n",
       " 'ran': 53427,\n",
       " 'continually': 14512,\n",
       " 'overacted': 47616,\n",
       " 'crappy': 15355,\n",
       " 'copy': 14776,\n",
       " 'vhs': 71203,\n",
       " 'redeemed': 54197,\n",
       " 'consuming': 14419,\n",
       " 'liquor': 38968,\n",
       " 'trust': 68395,\n",
       " 'stuck': 63761,\n",
       " 'turkey': 68603,\n",
       " 'pathetically': 48698,\n",
       " 'figure': 24493,\n",
       " 'fourth': 25738,\n",
       " 'rate': 53594,\n",
       " 'spoof': 62392,\n",
       " 'springtime': 62492,\n",
       " 'hitler': 31147,\n",
       " 'girl': 27564,\n",
       " 'janis': 34953,\n",
       " 'joplin': 35526,\n",
       " 'faint': 23567,\n",
       " 'spark': 61984,\n",
       " 'interest': 34075,\n",
       " 'sing': 60368,\n",
       " 'original': 47274,\n",
       " 'want': 72088,\n",
       " 'similar': 60280,\n",
       " 'thousand': 66632,\n",
       " 'beyond': 7145,\n",
       " 'valley': 70717,\n",
       " 'dolls': 19502,\n",
       " 'spoilers': 62360,\n",
       " 've': 70920,\n",
       " 'renting': 54906,\n",
       " 'movielink': 44156,\n",
       " 'decided': 16929,\n",
       " 'boxing': 8697,\n",
       " 'overblow': 47633,\n",
       " 'blood': 7852,\n",
       " 'amature': 2946,\n",
       " 'level': 38507,\n",
       " 'attention': 4887,\n",
       " 'brought': 9307,\n",
       " 'improving': 32977,\n",
       " 'grades': 28337,\n",
       " 'points': 50590,\n",
       " 'problems': 51792,\n",
       " 'gender': 27083,\n",
       " 'concerned': 13938,\n",
       " 'wasn': 72218,\n",
       " 'disappointment': 18642,\n",
       " 'either': 21162,\n",
       " 'clear': 12750,\n",
       " 'title': 67080,\n",
       " 'win': 73157,\n",
       " 'unexpected': 69546,\n",
       " 'together': 67175,\n",
       " 'loved': 39570,\n",
       " 'highly': 30923,\n",
       " 'recommended': 54083,\n",
       " 'quality': 52855,\n",
       " 'replayable': 54991,\n",
       " 'pointless': 50587,\n",
       " 'short': 59806,\n",
       " 'naked': 44835,\n",
       " 'men': 42153,\n",
       " 'slapping': 60742,\n",
       " 'punching': 52536,\n",
       " 'we': 72365,\n",
       " 'shot': 59838,\n",
       " 'black': 7543,\n",
       " 'white': 72852,\n",
       " 'tons': 67319,\n",
       " 'tune': 68546,\n",
       " 'dreadful': 20033,\n",
       " 'looks': 39377,\n",
       " 'violence': 71466,\n",
       " 'inherent': 33641,\n",
       " 'disturbing': 19200,\n",
       " 'homo': 31459,\n",
       " 'eroticism': 22372,\n",
       " 'mixing': 43284,\n",
       " 'avant': 5146,\n",
       " 'garde': 26809,\n",
       " 'material': 41349,\n",
       " 'found': 25715,\n",
       " 'incomprehensible': 33167,\n",
       " 'stupid': 63831,\n",
       " 'ocassionally': 46558,\n",
       " 'festival': 24319,\n",
       " 'gay': 26975,\n",
       " 'shorts': 59832,\n",
       " 'sat': 57554,\n",
       " 'stunned': 63808,\n",
       " 'silence': 60219,\n",
       " 'previews': 51617,\n",
       " '40': 690,\n",
       " 'year': 74147,\n",
       " 'virgin': 71486,\n",
       " 'boasts': 8041,\n",
       " 'image': 32654,\n",
       " 'another': 3538,\n",
       " 'immature': 32721,\n",
       " 'sex': 59098,\n",
       " 'romp': 56343,\n",
       " 'ish': 34604,\n",
       " 'lonely': 39313,\n",
       " 'suddenly': 64143,\n",
       " 'feels': 24127,\n",
       " 'urge': 70454,\n",
       " 'deed': 17046,\n",
       " 'hasn': 30013,\n",
       " 'many': 40829,\n",
       " 'past': 48644,\n",
       " 'experiences': 23159,\n",
       " 'dampened': 16406,\n",
       " 'enthusiasm': 22069,\n",
       " 'avoids': 5215,\n",
       " 'women': 73487,\n",
       " 'completely': 13775,\n",
       " 'happens': 29778,\n",
       " 'falls': 23647,\n",
       " 'called': 10210,\n",
       " 'andy': 3316,\n",
       " 'stitzer': 63294,\n",
       " 'steve': 63167,\n",
       " 'carell': 10655,\n",
       " 'works': 73646,\n",
       " 'employee': 21650,\n",
       " 'electronics': 21262,\n",
       " 'store': 63396,\n",
       " 'collects': 13337,\n",
       " 'vintage': 71454,\n",
       " 'figures': 24497,\n",
       " 'displayed': 19007,\n",
       " 'bachelor': 5427,\n",
       " 'pad': 47989,\n",
       " 'lovely': 39585,\n",
       " 'home': 31399,\n",
       " 'theater': 66343,\n",
       " 'system': 65164,\n",
       " 'watches': 72256,\n",
       " 'survivor': 64689,\n",
       " 'elderly': 21221,\n",
       " 'neighbors': 45271,\n",
       " 'picturesque': 49868,\n",
       " 'definition': 17180,\n",
       " 'needs': 45214,\n",
       " 'now': 46152,\n",
       " 'here': 30670,\n",
       " 'novelty': 46143,\n",
       " 'picture': 49865,\n",
       " 'does': 19421,\n",
       " 'impossible': 32917,\n",
       " 'task': 65623,\n",
       " 'dealing': 16778,\n",
       " 'subject': 63930,\n",
       " 'matter': 41424,\n",
       " 'cute': 16127,\n",
       " 'mature': 41447,\n",
       " 'fashion': 23895,\n",
       " 'easily': 20773,\n",
       " 'turned': 68619,\n",
       " 'differently': 18343,\n",
       " 'hands': 29694,\n",
       " 'transparent': 67858,\n",
       " ...}"
      ]
     },
     "execution_count": 38,
     "metadata": {},
     "output_type": "execute_result"
    }
   ],
   "source": [
    "unigram_vectorizer.vocabulary_"
   ]
  },
  {
   "cell_type": "code",
   "execution_count": 46,
   "metadata": {},
   "outputs": [],
   "source": [
    "df = pd.DataFrame(unigram_vectorizer.vocabulary_.items(), columns=['Vocabulary', 'Frequency'])"
   ]
  },
  {
   "cell_type": "code",
   "execution_count": 49,
   "metadata": {},
   "outputs": [
    {
     "name": "stdout",
     "output_type": "stream",
     "text": [
      "<class 'pandas.core.frame.DataFrame'>\n",
      "RangeIndex: 74849 entries, 0 to 74848\n",
      "Data columns (total 2 columns):\n",
      " #   Column      Non-Null Count  Dtype \n",
      "---  ------      --------------  ----- \n",
      " 0   Vocabulary  74849 non-null  object\n",
      " 1   Frequency   74849 non-null  int64 \n",
      "dtypes: int64(1), object(1)\n",
      "memory usage: 1.1+ MB\n"
     ]
    }
   ],
   "source": [
    "df.info()"
   ]
  },
  {
   "cell_type": "code",
   "execution_count": 57,
   "metadata": {},
   "outputs": [],
   "source": [
    "df.sort_values(by=\"Frequency\", axis=0, ascending=False, inplace=True, kind='quicksort', na_position='last')"
   ]
  },
  {
   "cell_type": "code",
   "execution_count": 58,
   "metadata": {},
   "outputs": [
    {
     "data": {
      "text/html": [
       "<div>\n",
       "<style scoped>\n",
       "    .dataframe tbody tr th:only-of-type {\n",
       "        vertical-align: middle;\n",
       "    }\n",
       "\n",
       "    .dataframe tbody tr th {\n",
       "        vertical-align: top;\n",
       "    }\n",
       "\n",
       "    .dataframe thead th {\n",
       "        text-align: right;\n",
       "    }\n",
       "</style>\n",
       "<table border=\"1\" class=\"dataframe\">\n",
       "  <thead>\n",
       "    <tr style=\"text-align: right;\">\n",
       "      <th></th>\n",
       "      <th>Vocabulary</th>\n",
       "      <th>Frequency</th>\n",
       "    </tr>\n",
       "  </thead>\n",
       "  <tbody>\n",
       "    <tr>\n",
       "      <th>69272</th>\n",
       "      <td>üvegtigris</td>\n",
       "      <td>74848</td>\n",
       "    </tr>\n",
       "    <tr>\n",
       "      <th>41836</th>\n",
       "      <td>über</td>\n",
       "      <td>74847</td>\n",
       "    </tr>\n",
       "    <tr>\n",
       "      <th>57528</th>\n",
       "      <td>østbye</td>\n",
       "      <td>74846</td>\n",
       "    </tr>\n",
       "    <tr>\n",
       "      <th>54620</th>\n",
       "      <td>ísnt</td>\n",
       "      <td>74845</td>\n",
       "    </tr>\n",
       "    <tr>\n",
       "      <th>62080</th>\n",
       "      <td>ís</td>\n",
       "      <td>74844</td>\n",
       "    </tr>\n",
       "    <tr>\n",
       "      <th>9877</th>\n",
       "      <td>êxtase</td>\n",
       "      <td>74843</td>\n",
       "    </tr>\n",
       "    <tr>\n",
       "      <th>52124</th>\n",
       "      <td>évery</td>\n",
       "      <td>74842</td>\n",
       "    </tr>\n",
       "    <tr>\n",
       "      <th>71820</th>\n",
       "      <td>étc</td>\n",
       "      <td>74841</td>\n",
       "    </tr>\n",
       "    <tr>\n",
       "      <th>41996</th>\n",
       "      <td>état</td>\n",
       "      <td>74840</td>\n",
       "    </tr>\n",
       "    <tr>\n",
       "      <th>23673</th>\n",
       "      <td>était</td>\n",
       "      <td>74839</td>\n",
       "    </tr>\n",
       "    <tr>\n",
       "      <th>22117</th>\n",
       "      <td>émigrés</td>\n",
       "      <td>74838</td>\n",
       "    </tr>\n",
       "    <tr>\n",
       "      <th>35579</th>\n",
       "      <td>émigré</td>\n",
       "      <td>74837</td>\n",
       "    </tr>\n",
       "    <tr>\n",
       "      <th>56798</th>\n",
       "      <td>élan</td>\n",
       "      <td>74836</td>\n",
       "    </tr>\n",
       "    <tr>\n",
       "      <th>71565</th>\n",
       "      <td>écran</td>\n",
       "      <td>74835</td>\n",
       "    </tr>\n",
       "    <tr>\n",
       "      <th>74416</th>\n",
       "      <td>æsthetic</td>\n",
       "      <td>74834</td>\n",
       "    </tr>\n",
       "    <tr>\n",
       "      <th>74252</th>\n",
       "      <td>åmål</td>\n",
       "      <td>74833</td>\n",
       "    </tr>\n",
       "    <tr>\n",
       "      <th>57513</th>\n",
       "      <td>åge</td>\n",
       "      <td>74832</td>\n",
       "    </tr>\n",
       "    <tr>\n",
       "      <th>52031</th>\n",
       "      <td>äänekoski</td>\n",
       "      <td>74831</td>\n",
       "    </tr>\n",
       "    <tr>\n",
       "      <th>52811</th>\n",
       "      <td>ääliöt</td>\n",
       "      <td>74830</td>\n",
       "    </tr>\n",
       "    <tr>\n",
       "      <th>23316</th>\n",
       "      <td>är</td>\n",
       "      <td>74829</td>\n",
       "    </tr>\n",
       "  </tbody>\n",
       "</table>\n",
       "</div>"
      ],
      "text/plain": [
       "       Vocabulary  Frequency\n",
       "69272  üvegtigris      74848\n",
       "41836        über      74847\n",
       "57528      østbye      74846\n",
       "54620        ísnt      74845\n",
       "62080          ís      74844\n",
       "9877       êxtase      74843\n",
       "52124       évery      74842\n",
       "71820         étc      74841\n",
       "41996        état      74840\n",
       "23673       était      74839\n",
       "22117     émigrés      74838\n",
       "35579      émigré      74837\n",
       "56798        élan      74836\n",
       "71565       écran      74835\n",
       "74416    æsthetic      74834\n",
       "74252        åmål      74833\n",
       "57513         åge      74832\n",
       "52031   äänekoski      74831\n",
       "52811      ääliöt      74830\n",
       "23316          är      74829"
      ]
     },
     "execution_count": 58,
     "metadata": {},
     "output_type": "execute_result"
    }
   ],
   "source": [
    "df.head(n=20)"
   ]
  },
  {
   "cell_type": "code",
   "execution_count": 59,
   "metadata": {},
   "outputs": [
    {
     "data": {
      "text/html": [
       "<div>\n",
       "<style scoped>\n",
       "    .dataframe tbody tr th:only-of-type {\n",
       "        vertical-align: middle;\n",
       "    }\n",
       "\n",
       "    .dataframe tbody tr th {\n",
       "        vertical-align: top;\n",
       "    }\n",
       "\n",
       "    .dataframe thead th {\n",
       "        text-align: right;\n",
       "    }\n",
       "</style>\n",
       "<table border=\"1\" class=\"dataframe\">\n",
       "  <thead>\n",
       "    <tr style=\"text-align: right;\">\n",
       "      <th></th>\n",
       "      <th>Vocabulary</th>\n",
       "      <th>Frequency</th>\n",
       "    </tr>\n",
       "  </thead>\n",
       "  <tbody>\n",
       "    <tr>\n",
       "      <th>31179</th>\n",
       "      <td>02</td>\n",
       "      <td>19</td>\n",
       "    </tr>\n",
       "    <tr>\n",
       "      <th>50032</th>\n",
       "      <td>01pm</td>\n",
       "      <td>18</td>\n",
       "    </tr>\n",
       "    <tr>\n",
       "      <th>11978</th>\n",
       "      <td>01</td>\n",
       "      <td>17</td>\n",
       "    </tr>\n",
       "    <tr>\n",
       "      <th>14872</th>\n",
       "      <td>00s</td>\n",
       "      <td>16</td>\n",
       "    </tr>\n",
       "    <tr>\n",
       "      <th>25993</th>\n",
       "      <td>00pm</td>\n",
       "      <td>15</td>\n",
       "    </tr>\n",
       "    <tr>\n",
       "      <th>68060</th>\n",
       "      <td>00am</td>\n",
       "      <td>14</td>\n",
       "    </tr>\n",
       "    <tr>\n",
       "      <th>31957</th>\n",
       "      <td>0093638</td>\n",
       "      <td>13</td>\n",
       "    </tr>\n",
       "    <tr>\n",
       "      <th>20850</th>\n",
       "      <td>0083</td>\n",
       "      <td>12</td>\n",
       "    </tr>\n",
       "    <tr>\n",
       "      <th>20849</th>\n",
       "      <td>0080</td>\n",
       "      <td>11</td>\n",
       "    </tr>\n",
       "    <tr>\n",
       "      <th>20837</th>\n",
       "      <td>0079</td>\n",
       "      <td>10</td>\n",
       "    </tr>\n",
       "    <tr>\n",
       "      <th>24456</th>\n",
       "      <td>007</td>\n",
       "      <td>9</td>\n",
       "    </tr>\n",
       "    <tr>\n",
       "      <th>50084</th>\n",
       "      <td>006</td>\n",
       "      <td>8</td>\n",
       "    </tr>\n",
       "    <tr>\n",
       "      <th>25243</th>\n",
       "      <td>003830</td>\n",
       "      <td>7</td>\n",
       "    </tr>\n",
       "    <tr>\n",
       "      <th>53889</th>\n",
       "      <td>001</td>\n",
       "      <td>6</td>\n",
       "    </tr>\n",
       "    <tr>\n",
       "      <th>11887</th>\n",
       "      <td>000s</td>\n",
       "      <td>5</td>\n",
       "    </tr>\n",
       "    <tr>\n",
       "      <th>26106</th>\n",
       "      <td>00015</td>\n",
       "      <td>4</td>\n",
       "    </tr>\n",
       "    <tr>\n",
       "      <th>68194</th>\n",
       "      <td>00001</td>\n",
       "      <td>3</td>\n",
       "    </tr>\n",
       "    <tr>\n",
       "      <th>54737</th>\n",
       "      <td>0000000000001</td>\n",
       "      <td>2</td>\n",
       "    </tr>\n",
       "    <tr>\n",
       "      <th>2644</th>\n",
       "      <td>000</td>\n",
       "      <td>1</td>\n",
       "    </tr>\n",
       "    <tr>\n",
       "      <th>12998</th>\n",
       "      <td>00</td>\n",
       "      <td>0</td>\n",
       "    </tr>\n",
       "  </tbody>\n",
       "</table>\n",
       "</div>"
      ],
      "text/plain": [
       "          Vocabulary  Frequency\n",
       "31179             02         19\n",
       "50032           01pm         18\n",
       "11978             01         17\n",
       "14872            00s         16\n",
       "25993           00pm         15\n",
       "68060           00am         14\n",
       "31957        0093638         13\n",
       "20850           0083         12\n",
       "20849           0080         11\n",
       "20837           0079         10\n",
       "24456            007          9\n",
       "50084            006          8\n",
       "25243         003830          7\n",
       "53889            001          6\n",
       "11887           000s          5\n",
       "26106          00015          4\n",
       "68194          00001          3\n",
       "54737  0000000000001          2\n",
       "2644             000          1\n",
       "12998             00          0"
      ]
     },
     "execution_count": 59,
     "metadata": {},
     "output_type": "execute_result"
    }
   ],
   "source": [
    "df.tail(n=20)"
   ]
  },
  {
   "cell_type": "code",
   "execution_count": 60,
   "metadata": {},
   "outputs": [
    {
     "name": "stdout",
     "output_type": "stream",
     "text": [
      "CPU times: user 111 ms, sys: 29.2 ms, total: 140 ms\n",
      "Wall time: 139 ms\n"
     ]
    }
   ],
   "source": [
    "%%time\n",
    "# TRAINING\n",
    "# X_train_unigram = unigram_vectorizer.transform(imdb_train['text'].values)\n",
    "# save_npz('vectorized_data/X_train_unigram.npz', X_train_unigram)\n",
    "\n",
    "# TESTING\n",
    "X_train_unigram = load_npz('vectorized_data/X_train_unigram.npz')"
   ]
  },
  {
   "cell_type": "code",
   "execution_count": null,
   "metadata": {},
   "outputs": [],
   "source": []
  },
  {
   "cell_type": "markdown",
   "metadata": {},
   "source": [
    "<b> fit_transform </b>"
   ]
  },
  {
   "cell_type": "markdown",
   "metadata": {},
   "source": [
    "#### Unigram Tf-Idf"
   ]
  },
  {
   "cell_type": "code",
   "execution_count": 65,
   "metadata": {},
   "outputs": [
    {
     "name": "stdout",
     "output_type": "stream",
     "text": [
      "CPU times: user 3.9 ms, sys: 0 ns, total: 3.9 ms\n",
      "Wall time: 101 ms\n"
     ]
    }
   ],
   "source": [
    "%%time\n",
    "# TRAINING\n",
    "# unigram_tf_idf_transformer = TfidfTransformer()\n",
    "# unigram_tf_idf_transformer.fit(X_train_unigram)\n",
    "# dump(unigram_tf_idf_transformer, 'data_preprocessors/unigram_tf_idf_transformer.joblib')\n",
    "\n",
    "# TESTING\n",
    "unigram_tf_idf_transformer = load('data_preprocessors/unigram_tf_idf_transformer.joblib') "
   ]
  },
  {
   "cell_type": "code",
   "execution_count": 66,
   "metadata": {},
   "outputs": [
    {
     "name": "stdout",
     "output_type": "stream",
     "text": [
      "CPU times: user 265 ms, sys: 16.7 ms, total: 282 ms\n",
      "Wall time: 656 ms\n"
     ]
    }
   ],
   "source": [
    "%%time\n",
    "# TRAINING\n",
    "# X_train_unigram_tf_idf = unigram_tf_idf_transformer.transform(X_train_unigram)\n",
    "# save_npz('vectorized_data/X_train_unigram_tf_idf.npz', X_train_unigram_tf_idf)\n",
    "\n",
    "# TESTING\n",
    "X_train_unigram_tf_idf = load_npz('vectorized_data/X_train_unigram_tf_idf.npz')"
   ]
  },
  {
   "cell_type": "markdown",
   "metadata": {},
   "source": [
    "#### Bigram Counts"
   ]
  },
  {
   "cell_type": "code",
   "execution_count": 67,
   "metadata": {},
   "outputs": [
    {
     "name": "stdout",
     "output_type": "stream",
     "text": [
      "CPU times: user 4.08 s, sys: 125 ms, total: 4.21 s\n",
      "Wall time: 4.37 s\n"
     ]
    }
   ],
   "source": [
    "%%time\n",
    "# TRAINING\n",
    "# bigram_vectorizer = CountVectorizer(ngram_range=(1, 2))\n",
    "# bigram_vectorizer.fit(imdb_train['text'].values)\n",
    "# dump(bigram_vectorizer, 'data_preprocessors/bigram_vectorizer.joblib')\n",
    "\n",
    "# TESTING\n",
    "bigram_vectorizer = load('data_preprocessors/bigram_vectorizer.joblib')"
   ]
  },
  {
   "cell_type": "code",
   "execution_count": 68,
   "metadata": {},
   "outputs": [
    {
     "name": "stdout",
     "output_type": "stream",
     "text": [
      "CPU times: user 15 s, sys: 268 ms, total: 15.3 s\n",
      "Wall time: 15.5 s\n"
     ]
    }
   ],
   "source": [
    "%%time\n",
    "# TRAINING\n",
    "X_train_bigram = bigram_vectorizer.transform(imdb_train['text'].values)\n",
    "save_npz('vectorized_data/X_train_bigram.npz', X_train_bigram)\n",
    "\n",
    "# TESTING\n",
    "X_train_bigram = load_npz('vectorized_data/X_train_bigram.npz')"
   ]
  },
  {
   "cell_type": "markdown",
   "metadata": {},
   "source": [
    "#### Bigram Tf-Idf"
   ]
  },
  {
   "cell_type": "code",
   "execution_count": 69,
   "metadata": {},
   "outputs": [
    {
     "name": "stdout",
     "output_type": "stream",
     "text": [
      "CPU times: user 224 ms, sys: 98.5 ms, total: 322 ms\n",
      "Wall time: 534 ms\n"
     ]
    }
   ],
   "source": [
    "%%time\n",
    "# TRAINING\n",
    "bigram_tf_idf_transformer = TfidfTransformer()\n",
    "bigram_tf_idf_transformer.fit(X_train_bigram)\n",
    "dump(bigram_tf_idf_transformer, 'data_preprocessors/bigram_tf_idf_transformer.joblib')\n",
    "\n",
    "# TESTING\n",
    "bigram_tf_idf_transformer = load('data_preprocessors/bigram_tf_idf_transformer.joblib')"
   ]
  },
  {
   "cell_type": "code",
   "execution_count": 70,
   "metadata": {},
   "outputs": [],
   "source": [
    "X_train_bigram_tf_idf = bigram_tf_idf_transformer.transform(X_train_bigram)\n",
    "save_npz('vectorized_data/X_train_bigram_tf_idf.npz', X_train_bigram_tf_idf)\n",
    "\n",
    "# X_train_bigram_tf_idf = load_npz('vectorized_data/X_train_bigram_tf_idf.npz')"
   ]
  },
  {
   "cell_type": "markdown",
   "metadata": {},
   "source": [
    "### Choosing data format"
   ]
  },
  {
   "cell_type": "markdown",
   "metadata": {},
   "source": [
    "&nbsp;&nbsp;&nbsp;&nbsp;Now, for each data form we split it into train & validation sets, train a `SGDClassifier` and output the score."
   ]
  },
  {
   "cell_type": "code",
   "execution_count": 71,
   "metadata": {},
   "outputs": [],
   "source": [
    "def train_and_show_scores(X: csr_matrix, y: np.array, title: str) -> None:\n",
    "    X_train, X_valid, y_train, y_valid = train_test_split(\n",
    "        X, y, train_size=0.75, stratify=y\n",
    "    )\n",
    "\n",
    "    clf = SGDClassifier()\n",
    "    clf.fit(X_train, y_train)\n",
    "    train_score = clf.score(X_train, y_train)\n",
    "    valid_score = clf.score(X_valid, y_valid)\n",
    "    print(f'{title}\\nTrain score: {round(train_score, 2)} ; Validation score: {round(valid_score, 2)}\\n')"
   ]
  },
  {
   "cell_type": "code",
   "execution_count": 72,
   "metadata": {},
   "outputs": [],
   "source": [
    "y_train = imdb_train['label'].values"
   ]
  },
  {
   "cell_type": "code",
   "execution_count": null,
   "metadata": {},
   "outputs": [],
   "source": []
  },
  {
   "cell_type": "code",
   "execution_count": 73,
   "metadata": {},
   "outputs": [
    {
     "name": "stdout",
     "output_type": "stream",
     "text": [
      "Unigram Counts\n",
      "Train score: 1.0 ; Validation score: 0.87\n",
      "\n",
      "Unigram Tf-Idf\n",
      "Train score: 0.95 ; Validation score: 0.89\n",
      "\n",
      "Bigram Counts\n",
      "Train score: 1.0 ; Validation score: 0.89\n",
      "\n",
      "Bigram Tf-Idf\n",
      "Train score: 0.98 ; Validation score: 0.9\n",
      "\n"
     ]
    }
   ],
   "source": [
    "train_and_show_scores(X_train_unigram, y_train, 'Unigram Counts')\n",
    "train_and_show_scores(X_train_unigram_tf_idf, y_train, 'Unigram Tf-Idf')\n",
    "train_and_show_scores(X_train_bigram, y_train, 'Bigram Counts')\n",
    "train_and_show_scores(X_train_bigram_tf_idf, y_train, 'Bigram Tf-Idf')"
   ]
  },
  {
   "cell_type": "markdown",
   "metadata": {},
   "source": [
    "&nbsp;&nbsp;&nbsp;&nbsp;The best data form seems to be **bigram with tf-idf** as it gets the highest validation accuracy: **0.9**; we will use it next for hyper-parameter tuning."
   ]
  },
  {
   "cell_type": "code",
   "execution_count": null,
   "metadata": {},
   "outputs": [],
   "source": []
  },
  {
   "cell_type": "code",
   "execution_count": null,
   "metadata": {},
   "outputs": [],
   "source": []
  },
  {
   "cell_type": "markdown",
   "metadata": {},
   "source": [
    "<h1> TUTORIAL </h1>"
   ]
  },
  {
   "cell_type": "markdown",
   "metadata": {},
   "source": [
    "<h2>Using the processed twitter data from yesterday's challenge</h2>.\n",
    "\n",
    "\n",
    "- Form a new data frame (named `cleanTweet`), containing columns $\\textbf{clean-text}$ and $\\textbf{polarity}$.\n",
    "\n",
    "- Write a function `text_category` that takes a value `p` and returns, depending on the value of p, a string `'positive'`, `'negative'` or `'neutral'`.\n",
    "\n",
    "- Apply this function (`text_category`) on the $\\textbf{polarity}$ column of `cleanTweet` in 1 above to form a new column called $\\textbf{score}$ in `cleanTweet`.\n",
    "\n",
    "- Visualize The $\\textbf{score}$ column using piechart and barchart\n",
    "\n",
    "<h5>Now we want to build a classification model on the clean tweet following the steps below:</h5>\n",
    "\n",
    "* Remove rows from `cleanTweet` where $\\textbf{polarity}$ $= 0$ (i.e where $\\textbf{score}$ = Neutral) and reset the frame index.\n",
    "* Construct a column $\\textbf{scoremap}$ Use the mapping {'positive':1, 'negative':0} on the $\\textbf{score}$ column\n",
    "* Create feature and target variables `(X,y)` from $\\textbf{clean-text}$ and $\\textbf{scoremap}$ columns respectively.\n",
    "* Use `train_test_split` function to construct `(X_train, y_train)` and `(X_test, y_test)` from `(X,y)`\n",
    "\n",
    "* Build an `SGDClassifier` model from the vectorize train text data. Use `CountVectorizer()` with a $\\textit{trigram}$ parameter.\n",
    "\n",
    "* Evaluate your model on the test data.\n"
   ]
  },
  {
   "cell_type": "code",
   "execution_count": null,
   "metadata": {},
   "outputs": [],
   "source": []
  },
  {
   "cell_type": "code",
   "execution_count": null,
   "metadata": {},
   "outputs": [],
   "source": []
  },
  {
   "cell_type": "code",
   "execution_count": null,
   "metadata": {},
   "outputs": [],
   "source": []
  },
  {
   "cell_type": "markdown",
   "metadata": {},
   "source": [
    "# EXTENSION"
   ]
  },
  {
   "cell_type": "markdown",
   "metadata": {},
   "source": [
    "### Using Cross-Validation for hyperparameter tuning"
   ]
  },
  {
   "cell_type": "markdown",
   "metadata": {},
   "source": [
    "&nbsp;&nbsp;&nbsp;&nbsp;For this part we will use `RandomizedSearchCV`<sup>(12)</sup> which chooses the parameters randomly from the list that we give, or according to the distribution that we specify from `scipy.stats` (e.g. uniform); then is estimates the test error by doing cross-validation and after all iterations we can find the best estimator, the best parameters and the best score in the variables `best_estimator_`, `best_params_` and `best_score_`.  \n",
    "\n",
    "&nbsp;&nbsp;&nbsp;&nbsp;Because the search space for the parameters that we want to test is very big and it may need a huge number of iterations until it finds the best combination, we will split the set of parameters in 2 and do the hyper-parameter tuning process in two phases. First we will find the optimal combination of loss, learning_rate and eta0 (i.e. initial learning rate); and then for penalty and alpha."
   ]
  },
  {
   "cell_type": "code",
   "execution_count": 74,
   "metadata": {},
   "outputs": [],
   "source": [
    "X_train = X_train_bigram_tf_idf"
   ]
  },
  {
   "cell_type": "markdown",
   "metadata": {},
   "source": [
    "#### Phase 1: loss, learning rate and initial learning rate"
   ]
  },
  {
   "cell_type": "code",
   "execution_count": 75,
   "metadata": {},
   "outputs": [],
   "source": [
    "clf = SGDClassifier()"
   ]
  },
  {
   "cell_type": "code",
   "execution_count": 76,
   "metadata": {},
   "outputs": [],
   "source": [
    "distributions = dict(\n",
    "    loss=['hinge', 'log', 'modified_huber', 'squared_hinge', 'perceptron'],\n",
    "    learning_rate=['optimal', 'invscaling', 'adaptive'],\n",
    "    eta0=uniform(loc=1e-7, scale=1e-2)\n",
    ")"
   ]
  },
  {
   "cell_type": "code",
   "execution_count": null,
   "metadata": {},
   "outputs": [],
   "source": [
    "random_search_cv = RandomizedSearchCV(\n",
    "    estimator=clf,\n",
    "    param_distributions=distributions,\n",
    "    cv=5,\n",
    "    n_iter=50\n",
    ")\n",
    "random_search_cv.fit(X_train, y_train)\n",
    "print(f'Best params: {random_search_cv.best_params_}')\n",
    "print(f'Best score: {random_search_cv.best_score_}')"
   ]
  },
  {
   "cell_type": "markdown",
   "metadata": {},
   "source": [
    "&nbsp;&nbsp;&nbsp;&nbsp;Because we got \"learning_rate = optimal\" to be the best, then we will ignore the eta0 (initial learning rate) as it isn't used when learning_rate='optimal'; we got this value of eta0 just because of the randomness involved in the process."
   ]
  },
  {
   "cell_type": "markdown",
   "metadata": {},
   "source": [
    "#### Phase 2: penalty and alpha"
   ]
  },
  {
   "cell_type": "code",
   "execution_count": null,
   "metadata": {},
   "outputs": [],
   "source": [
    "clf = SGDClassifier()"
   ]
  },
  {
   "cell_type": "code",
   "execution_count": null,
   "metadata": {},
   "outputs": [],
   "source": [
    "distributions = dict(\n",
    "    penalty=['l1', 'l2', 'elasticnet'],\n",
    "    alpha=uniform(loc=1e-6, scale=1e-4)\n",
    ")"
   ]
  },
  {
   "cell_type": "code",
   "execution_count": null,
   "metadata": {},
   "outputs": [],
   "source": [
    "random_search_cv = RandomizedSearchCV(\n",
    "    estimator=clf,\n",
    "    param_distributions=distributions,\n",
    "    cv=5,\n",
    "    n_iter=50\n",
    ")\n",
    "random_search_cv.fit(X_train, y_train)\n",
    "print(f'Best params: {random_search_cv.best_params_}')\n",
    "print(f'Best score: {random_search_cv.best_score_}')"
   ]
  },
  {
   "cell_type": "markdown",
   "metadata": {},
   "source": [
    "&nbsp;&nbsp;&nbsp;&nbsp;So, the best parameters that I got are:  \n",
    "`loss: squared_hinge  \n",
    " learning_rate: optimal  \n",
    " penalty: l2  \n",
    " alpha: 1.2101013664295101e-05  `"
   ]
  },
  {
   "cell_type": "markdown",
   "metadata": {},
   "source": [
    "#### Saving the best classifier"
   ]
  },
  {
   "cell_type": "code",
   "execution_count": null,
   "metadata": {},
   "outputs": [],
   "source": [
    "sgd_classifier = random_search_cv.best_estimator_\n",
    "\n",
    "dump(random_search_cv.best_estimator_, 'classifiers/sgd_classifier.joblib')\n",
    "\n",
    "# sgd_classifier = load('classifiers/sgd_classifier.joblib')"
   ]
  },
  {
   "cell_type": "markdown",
   "metadata": {},
   "source": [
    "### Testing model"
   ]
  },
  {
   "cell_type": "code",
   "execution_count": null,
   "metadata": {},
   "outputs": [],
   "source": [
    "X_test = bigram_vectorizer.transform(imdb_test['text'].values)\n",
    "X_test = bigram_tf_idf_transformer.transform(X_test)\n",
    "y_test = imdb_test['label'].values"
   ]
  },
  {
   "cell_type": "code",
   "execution_count": null,
   "metadata": {},
   "outputs": [],
   "source": [
    "score = sgd_classifier.score(X_test, y_test)\n",
    "print(score)"
   ]
  },
  {
   "cell_type": "markdown",
   "metadata": {},
   "source": [
    "&nbsp;&nbsp;&nbsp;&nbsp;And we got **90.18%** test accuracy. That's not bad for our simple linear model. There are more advanced methods that give better results. The current state-of-the-art on this dataset is **97.42%** <sup>(13)</sup>"
   ]
  },
  {
   "cell_type": "markdown",
   "metadata": {},
   "source": [
    "# Deployment\n",
    "* Flask\n",
    "* Streamlit"
   ]
  },
  {
   "cell_type": "markdown",
   "metadata": {},
   "source": [
    "# References\n",
    "\n",
    "<sup>(1)</sup> &nbsp;[Sentiment Analysis - Wikipedia](https://en.wikipedia.org/wiki/Sentiment_analysis)  \n",
    "<sup>(2)</sup> &nbsp;[Learning Word Vectors for Sentiment Analysis](http://ai.stanford.edu/~amaas/papers/wvSent_acl2011.pdf)  \n",
    "<sup>(3)</sup> &nbsp;[Bag-of-words model - Wikipedia](https://en.wikipedia.org/wiki/Bag-of-words_model)  \n",
    "<sup>(4)</sup> &nbsp;[Tf-idf - Wikipedia](https://en.wikipedia.org/wiki/Tf%E2%80%93idf)  \n",
    "<sup>(5)</sup> &nbsp;[TfidfTransformer - Scikit-learn documentation](https://scikit-learn.org/stable/modules/generated/sklearn.feature_extraction.text.TfidfTransformer.html)  \n",
    "<sup>(6)</sup> &nbsp;[Stop words - Wikipedia](https://en.wikipedia.org/wiki/Stop_words)  \n",
    "<sup>(7)</sup> &nbsp;[A list of English stopwords](https://gist.github.com/sebleier/554280)  \n",
    "<sup>(8)</sup> &nbsp;[CountVectorizer - Scikit-learn documentation](https://scikit-learn.org/stable/modules/generated/sklearn.feature_extraction.text.CountVectorizer.html)  \n",
    "<sup>(9)</sup> &nbsp;[Scipy sparse matrices](https://docs.scipy.org/doc/scipy/reference/sparse.html)  \n",
    "<sup>(10)</sup> [Compressed Sparse Row matrix](https://docs.scipy.org/doc/scipy/reference/generated/scipy.sparse.csr_matrix.html#scipy.sparse.csr_matrix)  \n",
    "<sup>(11)</sup> [SGDClassifier - Scikit-learn documentation](https://scikit-learn.org/stable/modules/generated/sklearn.linear_model.SGDClassifier.html)  \n",
    "<sup>(12)</sup> [RandomizedSearchCV - Scikit-learn documentation](https://scikit-learn.org/stable/modules/generated/sklearn.model_selection.RandomizedSearchCV.html)  \n",
    "<sup>(13)</sup> [Sentiment Classification using Document Embeddings trained with\n",
    "Cosine Similarity](https://www.aclweb.org/anthology/P19-2057.pdf)  "
   ]
  }
 ],
 "metadata": {
  "kernelspec": {
   "display_name": "Python 3.9.7 ('base')",
   "language": "python",
   "name": "python3"
  },
  "language_info": {
   "codemirror_mode": {
    "name": "ipython",
    "version": 3
   },
   "file_extension": ".py",
   "mimetype": "text/x-python",
   "name": "python",
   "nbconvert_exporter": "python",
   "pygments_lexer": "ipython3",
   "version": "3.9.7"
  },
  "vscode": {
   "interpreter": {
    "hash": "be022ca0781b62a31a60481c8aaadb08ddb3205ad093a4baa0fc99ab15e65910"
   }
  }
 },
 "nbformat": 4,
 "nbformat_minor": 4
}
